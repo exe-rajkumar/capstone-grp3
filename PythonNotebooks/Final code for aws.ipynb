{
 "cells": [
  {
   "cell_type": "code",
   "execution_count": 2,
   "id": "21f896ab",
   "metadata": {},
   "outputs": [],
   "source": [
    "import pandas as pd\n",
    "import numpy as np\n",
    "import ast"
   ]
  },
  {
   "cell_type": "code",
   "execution_count": 2,
   "id": "84ec9b42",
   "metadata": {},
   "outputs": [],
   "source": [
    "#reading credits.csv\n",
    "df=pd.read_csv(r\"C:\\Users\\Utsav.lakhlani\\Desktop\\Training\\Capstone Project 3\\Capstone Project 3\\Data\\credits.csv\")"
   ]
  },
  {
   "cell_type": "markdown",
   "id": "86c86c51",
   "metadata": {},
   "source": [
    "# splitting the credits dataframe into cast and crew dataframes"
   ]
  },
  {
   "cell_type": "code",
   "execution_count": 3,
   "id": "083a7624",
   "metadata": {},
   "outputs": [],
   "source": [
    "# Convert the string representation of dictionaries back to a list of dictionaries\n",
    "df['cast'] = df['cast'].apply(ast.literal_eval)\n"
   ]
  },
  {
   "cell_type": "code",
   "execution_count": 4,
   "id": "f0c09c9d",
   "metadata": {},
   "outputs": [],
   "source": [
    "#createing different data frame and converting them into csv\n",
    "cast=[]\n",
    "for index,l1 in df.iterrows():\n",
    "    movid=l1['id']\n",
    "    for dic in l1['cast']:\n",
    "        dic['mov_id']=movid\n",
    "        cast.append(dic)\n",
    "cast=pd.DataFrame(cast)"
   ]
  },
  {
   "cell_type": "code",
   "execution_count": null,
   "id": "a3dc25b6",
   "metadata": {},
   "outputs": [],
   "source": [
    "cast.to_csv('cast.csv', index=False)"
   ]
  },
  {
   "cell_type": "code",
   "execution_count": 7,
   "id": "01660d37",
   "metadata": {},
   "outputs": [],
   "source": [
    "# Convert the string representation of dictionaries back to a list of dictionaries\n",
    "df['crew'] = df['crew'].apply(ast.literal_eval)"
   ]
  },
  {
   "cell_type": "code",
   "execution_count": 8,
   "id": "3fc1d134",
   "metadata": {},
   "outputs": [],
   "source": [
    "#similarly for crew in the same dataframe\n",
    "crew=[]\n",
    "for index,l1 in df.iterrows():\n",
    "    movid=l1['id']\n",
    "    for dic in l1['crew']:\n",
    "        dic['mov_id']=movid\n",
    "        crew.append(dic)\n",
    "crew=pd.DataFrame(crew)\n",
    "        "
   ]
  },
  {
   "cell_type": "code",
   "execution_count": null,
   "id": "853626d9",
   "metadata": {},
   "outputs": [],
   "source": [
    "cast.to_csv('cast.csv', index=False)"
   ]
  },
  {
   "cell_type": "markdown",
   "id": "0b8d271c",
   "metadata": {},
   "source": [
    "# making collections dataframe from movie metadata"
   ]
  },
  {
   "cell_type": "code",
   "execution_count": 3,
   "id": "7e4c9cf6",
   "metadata": {},
   "outputs": [
    {
     "name": "stderr",
     "output_type": "stream",
     "text": [
      "C:\\Users\\sambangi.bindu\\AppData\\Local\\Temp\\ipykernel_20584\\1600292365.py:2: DtypeWarning: Columns (10) have mixed types. Specify dtype option on import or set low_memory=False.\n",
      "  meta=pd.read_csv(r'C:\\Users\\sambangi.bindu\\Downloads\\Capstone Project 3\\Capstone Project 3\\Data\\movies_metadata.csv')\n"
     ]
    }
   ],
   "source": [
    "#reading movies_metadata.csv\n",
    "meta=pd.read_csv(r'C:\\Users\\sambangi.bindu\\Downloads\\Capstone Project 3\\Capstone Project 3\\Data\\movies_metadata.csv')"
   ]
  },
  {
   "cell_type": "code",
   "execution_count": 4,
   "id": "add007d9",
   "metadata": {},
   "outputs": [],
   "source": [
    "import copy\n",
    "tempmeta=copy.deepcopy(meta[meta['belongs_to_collection'].isnull()==False])"
   ]
  },
  {
   "cell_type": "code",
   "execution_count": null,
   "id": "275d2899",
   "metadata": {},
   "outputs": [],
   "source": []
  },
  {
   "cell_type": "code",
   "execution_count": 5,
   "id": "4f6e8ed0",
   "metadata": {},
   "outputs": [],
   "source": [
    "# Convert the string representation of dictionaries back to a list of dictionaries\n",
    "tempmeta['belongs_to_collection'] = tempmeta['belongs_to_collection'].apply(ast.literal_eval)"
   ]
  },
  {
   "cell_type": "code",
   "execution_count": 6,
   "id": "627e019b",
   "metadata": {},
   "outputs": [],
   "source": [
    "series=[]\n",
    "for index,l1 in tempmeta.iterrows():\n",
    "    movi=l1['id']\n",
    "    if type(l1['belongs_to_collection']) is dict:\n",
    "        l1['belongs_to_collection']['mov_id'] = movi\n",
    "        series.append(l1['belongs_to_collection'])\n",
    "series=pd.DataFrame(series)"
   ]
  },
  {
   "cell_type": "code",
   "execution_count": 7,
   "id": "23610a4c",
   "metadata": {},
   "outputs": [
    {
     "data": {
      "text/html": [
       "<div>\n",
       "<style scoped>\n",
       "    .dataframe tbody tr th:only-of-type {\n",
       "        vertical-align: middle;\n",
       "    }\n",
       "\n",
       "    .dataframe tbody tr th {\n",
       "        vertical-align: top;\n",
       "    }\n",
       "\n",
       "    .dataframe thead th {\n",
       "        text-align: right;\n",
       "    }\n",
       "</style>\n",
       "<table border=\"1\" class=\"dataframe\">\n",
       "  <thead>\n",
       "    <tr style=\"text-align: right;\">\n",
       "      <th></th>\n",
       "      <th>id</th>\n",
       "      <th>name</th>\n",
       "      <th>poster_path</th>\n",
       "      <th>backdrop_path</th>\n",
       "      <th>mov_id</th>\n",
       "    </tr>\n",
       "  </thead>\n",
       "  <tbody>\n",
       "    <tr>\n",
       "      <th>3817</th>\n",
       "      <td>158365</td>\n",
       "      <td>Why We Fight</td>\n",
       "      <td>/fFYBLu2Hnx27CWLOMd425ExDkgK.jpg</td>\n",
       "      <td>None</td>\n",
       "      <td>159849</td>\n",
       "    </tr>\n",
       "    <tr>\n",
       "      <th>4441</th>\n",
       "      <td>34055</td>\n",
       "      <td>Pokémon Collection</td>\n",
       "      <td>/j5te0YNZAMXDBnsqTUDKIBEt8iu.jpg</td>\n",
       "      <td>/iGoYKA0TFfgSoZpG2u5viTJMGfK.jpg</td>\n",
       "      <td>10991</td>\n",
       "    </tr>\n",
       "    <tr>\n",
       "      <th>4445</th>\n",
       "      <td>34055</td>\n",
       "      <td>Pokémon Collection</td>\n",
       "      <td>/j5te0YNZAMXDBnsqTUDKIBEt8iu.jpg</td>\n",
       "      <td>/iGoYKA0TFfgSoZpG2u5viTJMGfK.jpg</td>\n",
       "      <td>12600</td>\n",
       "    </tr>\n",
       "  </tbody>\n",
       "</table>\n",
       "</div>"
      ],
      "text/plain": [
       "          id                name                       poster_path  \\\n",
       "3817  158365        Why We Fight  /fFYBLu2Hnx27CWLOMd425ExDkgK.jpg   \n",
       "4441   34055  Pokémon Collection  /j5te0YNZAMXDBnsqTUDKIBEt8iu.jpg   \n",
       "4445   34055  Pokémon Collection  /j5te0YNZAMXDBnsqTUDKIBEt8iu.jpg   \n",
       "\n",
       "                         backdrop_path  mov_id  \n",
       "3817                              None  159849  \n",
       "4441  /iGoYKA0TFfgSoZpG2u5viTJMGfK.jpg   10991  \n",
       "4445  /iGoYKA0TFfgSoZpG2u5viTJMGfK.jpg   12600  "
      ]
     },
     "execution_count": 7,
     "metadata": {},
     "output_type": "execute_result"
    }
   ],
   "source": [
    "series[series.duplicated()]"
   ]
  },
  {
   "cell_type": "code",
   "execution_count": 8,
   "id": "7c69605a",
   "metadata": {},
   "outputs": [],
   "source": [
    "series.drop_duplicates(inplace=True)"
   ]
  },
  {
   "cell_type": "code",
   "execution_count": 9,
   "id": "130526df",
   "metadata": {},
   "outputs": [
    {
     "data": {
      "text/plain": [
       "(4488, 5)"
      ]
     },
     "execution_count": 9,
     "metadata": {},
     "output_type": "execute_result"
    }
   ],
   "source": [
    "series.shape"
   ]
  },
  {
   "cell_type": "code",
   "execution_count": 10,
   "id": "5fa90fa7",
   "metadata": {},
   "outputs": [
    {
     "data": {
      "text/plain": [
       "id                  0\n",
       "name                0\n",
       "poster_path       543\n",
       "backdrop_path    1227\n",
       "mov_id              0\n",
       "dtype: int64"
      ]
     },
     "execution_count": 10,
     "metadata": {},
     "output_type": "execute_result"
    }
   ],
   "source": [
    "series.isnull().sum()"
   ]
  },
  {
   "cell_type": "code",
   "execution_count": 11,
   "id": "cbdf53a0",
   "metadata": {},
   "outputs": [
    {
     "data": {
      "text/plain": [
       "id                int64\n",
       "name             object\n",
       "poster_path      object\n",
       "backdrop_path    object\n",
       "mov_id           object\n",
       "dtype: object"
      ]
     },
     "execution_count": 11,
     "metadata": {},
     "output_type": "execute_result"
    }
   ],
   "source": [
    "series.dtypes"
   ]
  },
  {
   "cell_type": "code",
   "execution_count": 12,
   "id": "b928528c",
   "metadata": {},
   "outputs": [],
   "source": [
    "series['mov_id']=series['mov_id'].astype(int)"
   ]
  },
  {
   "cell_type": "code",
   "execution_count": 13,
   "id": "91bd46fb",
   "metadata": {},
   "outputs": [
    {
     "data": {
      "text/plain": [
       "id                int64\n",
       "name             object\n",
       "poster_path      object\n",
       "backdrop_path    object\n",
       "mov_id            int32\n",
       "dtype: object"
      ]
     },
     "execution_count": 13,
     "metadata": {},
     "output_type": "execute_result"
    }
   ],
   "source": [
    "series.dtypes"
   ]
  },
  {
   "cell_type": "code",
   "execution_count": 14,
   "id": "a9f70781",
   "metadata": {},
   "outputs": [
    {
     "data": {
      "text/plain": [
       "False    4488\n",
       "Name: name, dtype: int64"
      ]
     },
     "execution_count": 14,
     "metadata": {},
     "output_type": "execute_result"
    }
   ],
   "source": [
    "series['name'].str.isspace().value_counts()"
   ]
  },
  {
   "cell_type": "code",
   "execution_count": 21,
   "id": "ef2a58d3",
   "metadata": {},
   "outputs": [],
   "source": [
    "series.to_csv('collection.csv',index=False)"
   ]
  },
  {
   "cell_type": "markdown",
   "id": "1b97afff",
   "metadata": {},
   "source": [
    "# production companies dataframe"
   ]
  },
  {
   "cell_type": "code",
   "execution_count": 61,
   "id": "5013464d",
   "metadata": {},
   "outputs": [],
   "source": [
    "#for production companies\n",
    "\n",
    "tempProd=copy.deepcopy(new_meta[new_meta['production_companies'].isnull()==False])\n"
   ]
  },
  {
   "cell_type": "code",
   "execution_count": 62,
   "id": "30893861",
   "metadata": {},
   "outputs": [],
   "source": [
    "a=[]\n",
    "for index,l1 in tempProd.iterrows():\n",
    "\n",
    "    movid=l1['Mov_id']\n",
    "\n",
    "    for dic in l1['production_companies']:\n",
    "        if isinstance(dic,dict):\n",
    "            dic['movie_id']=movid\n",
    "        else:\n",
    "            pass\n",
    "        a.append(dic)\n",
    "production_companies=pd.DataFrame(a)"
   ]
  },
  {
   "cell_type": "markdown",
   "id": "76f6be7e",
   "metadata": {},
   "source": [
    "Data cleaning of production_companies"
   ]
  },
  {
   "cell_type": "code",
   "execution_count": 4,
   "id": "e092fa91",
   "metadata": {},
   "outputs": [
    {
     "data": {
      "text/html": [
       "<div>\n",
       "<style scoped>\n",
       "    .dataframe tbody tr th:only-of-type {\n",
       "        vertical-align: middle;\n",
       "    }\n",
       "\n",
       "    .dataframe tbody tr th {\n",
       "        vertical-align: top;\n",
       "    }\n",
       "\n",
       "    .dataframe thead th {\n",
       "        text-align: right;\n",
       "    }\n",
       "</style>\n",
       "<table border=\"1\" class=\"dataframe\">\n",
       "  <thead>\n",
       "    <tr style=\"text-align: right;\">\n",
       "      <th></th>\n",
       "      <th>name</th>\n",
       "      <th>id</th>\n",
       "      <th>movie_id</th>\n",
       "    </tr>\n",
       "  </thead>\n",
       "  <tbody>\n",
       "    <tr>\n",
       "      <th>0</th>\n",
       "      <td>Pixar Animation Studios</td>\n",
       "      <td>3</td>\n",
       "      <td>862</td>\n",
       "    </tr>\n",
       "    <tr>\n",
       "      <th>1</th>\n",
       "      <td>TriStar Pictures</td>\n",
       "      <td>559</td>\n",
       "      <td>8844</td>\n",
       "    </tr>\n",
       "    <tr>\n",
       "      <th>2</th>\n",
       "      <td>Teitler Film</td>\n",
       "      <td>2550</td>\n",
       "      <td>8844</td>\n",
       "    </tr>\n",
       "    <tr>\n",
       "      <th>3</th>\n",
       "      <td>Interscope Communications</td>\n",
       "      <td>10201</td>\n",
       "      <td>8844</td>\n",
       "    </tr>\n",
       "    <tr>\n",
       "      <th>4</th>\n",
       "      <td>Warner Bros.</td>\n",
       "      <td>6194</td>\n",
       "      <td>15602</td>\n",
       "    </tr>\n",
       "  </tbody>\n",
       "</table>\n",
       "</div>"
      ],
      "text/plain": [
       "                        name     id  movie_id\n",
       "0    Pixar Animation Studios      3       862\n",
       "1           TriStar Pictures    559      8844\n",
       "2               Teitler Film   2550      8844\n",
       "3  Interscope Communications  10201      8844\n",
       "4               Warner Bros.   6194     15602"
      ]
     },
     "execution_count": 4,
     "metadata": {},
     "output_type": "execute_result"
    }
   ],
   "source": [
    "production_companies.head()"
   ]
  },
  {
   "cell_type": "code",
   "execution_count": 5,
   "id": "d3ace393",
   "metadata": {},
   "outputs": [
    {
     "data": {
      "text/plain": [
       "name        0\n",
       "id          0\n",
       "movie_id    0\n",
       "dtype: int64"
      ]
     },
     "execution_count": 5,
     "metadata": {},
     "output_type": "execute_result"
    }
   ],
   "source": [
    "production_companies.isnull().sum()"
   ]
  },
  {
   "cell_type": "code",
   "execution_count": 6,
   "id": "ff1d00f8",
   "metadata": {},
   "outputs": [
    {
     "data": {
      "text/plain": [
       "False    70561\n",
       "Name: name, dtype: int64"
      ]
     },
     "execution_count": 6,
     "metadata": {},
     "output_type": "execute_result"
    }
   ],
   "source": [
    "production_companies['name'].str.isspace().value_counts()"
   ]
  },
  {
   "cell_type": "code",
   "execution_count": 7,
   "id": "0789022a",
   "metadata": {},
   "outputs": [
    {
     "data": {
      "text/plain": [
       "name        object\n",
       "id           int64\n",
       "movie_id     int64\n",
       "dtype: object"
      ]
     },
     "execution_count": 7,
     "metadata": {},
     "output_type": "execute_result"
    }
   ],
   "source": [
    "production_companies.dtypes"
   ]
  },
  {
   "cell_type": "code",
   "execution_count": null,
   "id": "0c97dfb1",
   "metadata": {},
   "outputs": [],
   "source": [
    "production_companies.to_csv('Production_companies.csv',index=False)"
   ]
  },
  {
   "cell_type": "markdown",
   "id": "b5008dac",
   "metadata": {},
   "source": [
    "# For production countries"
   ]
  },
  {
   "cell_type": "code",
   "execution_count": 16,
   "id": "d5afe8dd",
   "metadata": {},
   "outputs": [],
   "source": [
    "\n",
    "tempcont=copy.deepcopy(meta[meta['production_countries'].isnull()==False])"
   ]
  },
  {
   "cell_type": "code",
   "execution_count": 17,
   "id": "faf1d6ee",
   "metadata": {},
   "outputs": [],
   "source": [
    "tempcont['production_countries'] = tempcont['production_countries'].apply(ast.literal_eval)"
   ]
  },
  {
   "cell_type": "code",
   "execution_count": null,
   "id": "c1a6c7bd",
   "metadata": {},
   "outputs": [],
   "source": [
    "a=[]\n",
    "for index,l1 in tempcont.iterrows():\n",
    "\n",
    "    movid=l1['id']\n",
    "\n",
    "    for dic in l1['production_countries']:\n",
    "        if isinstance(dic,dict):\n",
    "            dic['movie_id']=movid\n",
    "        else:\n",
    "            pass\n",
    "        a.append(dic)\n",
    "df2=pd.DataFrame(a)"
   ]
  },
  {
   "cell_type": "markdown",
   "id": "05346399",
   "metadata": {},
   "source": [
    "Data cleaning of production countries dataset"
   ]
  },
  {
   "cell_type": "code",
   "execution_count": 8,
   "id": "57c0a576",
   "metadata": {},
   "outputs": [],
   "source": [
    "df2=pd.read_csv(r'C:\\Users\\sambangi.bindu\\Downloads\\Production_countries.csv')"
   ]
  },
  {
   "cell_type": "code",
   "execution_count": 9,
   "id": "1a11a290",
   "metadata": {},
   "outputs": [
    {
     "data": {
      "text/html": [
       "<div>\n",
       "<style scoped>\n",
       "    .dataframe tbody tr th:only-of-type {\n",
       "        vertical-align: middle;\n",
       "    }\n",
       "\n",
       "    .dataframe tbody tr th {\n",
       "        vertical-align: top;\n",
       "    }\n",
       "\n",
       "    .dataframe thead th {\n",
       "        text-align: right;\n",
       "    }\n",
       "</style>\n",
       "<table border=\"1\" class=\"dataframe\">\n",
       "  <thead>\n",
       "    <tr style=\"text-align: right;\">\n",
       "      <th></th>\n",
       "      <th>iso_3166_1</th>\n",
       "      <th>name</th>\n",
       "      <th>movie_id</th>\n",
       "    </tr>\n",
       "  </thead>\n",
       "  <tbody>\n",
       "    <tr>\n",
       "      <th>0</th>\n",
       "      <td>US</td>\n",
       "      <td>United States of America</td>\n",
       "      <td>862</td>\n",
       "    </tr>\n",
       "    <tr>\n",
       "      <th>1</th>\n",
       "      <td>US</td>\n",
       "      <td>United States of America</td>\n",
       "      <td>8844</td>\n",
       "    </tr>\n",
       "    <tr>\n",
       "      <th>2</th>\n",
       "      <td>US</td>\n",
       "      <td>United States of America</td>\n",
       "      <td>15602</td>\n",
       "    </tr>\n",
       "    <tr>\n",
       "      <th>3</th>\n",
       "      <td>US</td>\n",
       "      <td>United States of America</td>\n",
       "      <td>31357</td>\n",
       "    </tr>\n",
       "    <tr>\n",
       "      <th>4</th>\n",
       "      <td>US</td>\n",
       "      <td>United States of America</td>\n",
       "      <td>11862</td>\n",
       "    </tr>\n",
       "  </tbody>\n",
       "</table>\n",
       "</div>"
      ],
      "text/plain": [
       "  iso_3166_1                      name  movie_id\n",
       "0         US  United States of America       862\n",
       "1         US  United States of America      8844\n",
       "2         US  United States of America     15602\n",
       "3         US  United States of America     31357\n",
       "4         US  United States of America     11862"
      ]
     },
     "execution_count": 9,
     "metadata": {},
     "output_type": "execute_result"
    }
   ],
   "source": [
    "df2.head()"
   ]
  },
  {
   "cell_type": "code",
   "execution_count": 10,
   "id": "e6359f43",
   "metadata": {},
   "outputs": [
    {
     "data": {
      "text/plain": [
       "(49431, 3)"
      ]
     },
     "execution_count": 10,
     "metadata": {},
     "output_type": "execute_result"
    }
   ],
   "source": [
    "df2.shape"
   ]
  },
  {
   "cell_type": "code",
   "execution_count": 11,
   "id": "54fa6651",
   "metadata": {},
   "outputs": [
    {
     "data": {
      "text/plain": [
       "iso_3166_1    3\n",
       "name          0\n",
       "movie_id      0\n",
       "dtype: int64"
      ]
     },
     "execution_count": 11,
     "metadata": {},
     "output_type": "execute_result"
    }
   ],
   "source": [
    "df2.isnull().sum()"
   ]
  },
  {
   "cell_type": "code",
   "execution_count": 12,
   "id": "81102076",
   "metadata": {},
   "outputs": [
    {
     "data": {
      "text/html": [
       "<div>\n",
       "<style scoped>\n",
       "    .dataframe tbody tr th:only-of-type {\n",
       "        vertical-align: middle;\n",
       "    }\n",
       "\n",
       "    .dataframe tbody tr th {\n",
       "        vertical-align: top;\n",
       "    }\n",
       "\n",
       "    .dataframe thead th {\n",
       "        text-align: right;\n",
       "    }\n",
       "</style>\n",
       "<table border=\"1\" class=\"dataframe\">\n",
       "  <thead>\n",
       "    <tr style=\"text-align: right;\">\n",
       "      <th></th>\n",
       "      <th>iso_3166_1</th>\n",
       "      <th>name</th>\n",
       "      <th>movie_id</th>\n",
       "    </tr>\n",
       "  </thead>\n",
       "  <tbody>\n",
       "    <tr>\n",
       "      <th>5366</th>\n",
       "      <td>NaN</td>\n",
       "      <td>Namibia</td>\n",
       "      <td>12663</td>\n",
       "    </tr>\n",
       "    <tr>\n",
       "      <th>12395</th>\n",
       "      <td>NaN</td>\n",
       "      <td>Namibia</td>\n",
       "      <td>5237</td>\n",
       "    </tr>\n",
       "    <tr>\n",
       "      <th>29042</th>\n",
       "      <td>NaN</td>\n",
       "      <td>Namibia</td>\n",
       "      <td>35632</td>\n",
       "    </tr>\n",
       "  </tbody>\n",
       "</table>\n",
       "</div>"
      ],
      "text/plain": [
       "      iso_3166_1     name  movie_id\n",
       "5366         NaN  Namibia     12663\n",
       "12395        NaN  Namibia      5237\n",
       "29042        NaN  Namibia     35632"
      ]
     },
     "execution_count": 12,
     "metadata": {},
     "output_type": "execute_result"
    }
   ],
   "source": [
    "df2[df2['iso_3166_1'].isnull()==True]"
   ]
  },
  {
   "cell_type": "code",
   "execution_count": 13,
   "id": "db27a860",
   "metadata": {},
   "outputs": [
    {
     "data": {
      "text/html": [
       "<div>\n",
       "<style scoped>\n",
       "    .dataframe tbody tr th:only-of-type {\n",
       "        vertical-align: middle;\n",
       "    }\n",
       "\n",
       "    .dataframe tbody tr th {\n",
       "        vertical-align: top;\n",
       "    }\n",
       "\n",
       "    .dataframe thead th {\n",
       "        text-align: right;\n",
       "    }\n",
       "</style>\n",
       "<table border=\"1\" class=\"dataframe\">\n",
       "  <thead>\n",
       "    <tr style=\"text-align: right;\">\n",
       "      <th></th>\n",
       "      <th>iso_3166_1</th>\n",
       "      <th>name</th>\n",
       "      <th>movie_id</th>\n",
       "    </tr>\n",
       "  </thead>\n",
       "  <tbody>\n",
       "    <tr>\n",
       "      <th>5366</th>\n",
       "      <td>NaN</td>\n",
       "      <td>Namibia</td>\n",
       "      <td>12663</td>\n",
       "    </tr>\n",
       "    <tr>\n",
       "      <th>12395</th>\n",
       "      <td>NaN</td>\n",
       "      <td>Namibia</td>\n",
       "      <td>5237</td>\n",
       "    </tr>\n",
       "    <tr>\n",
       "      <th>29042</th>\n",
       "      <td>NaN</td>\n",
       "      <td>Namibia</td>\n",
       "      <td>35632</td>\n",
       "    </tr>\n",
       "  </tbody>\n",
       "</table>\n",
       "</div>"
      ],
      "text/plain": [
       "      iso_3166_1     name  movie_id\n",
       "5366         NaN  Namibia     12663\n",
       "12395        NaN  Namibia      5237\n",
       "29042        NaN  Namibia     35632"
      ]
     },
     "execution_count": 13,
     "metadata": {},
     "output_type": "execute_result"
    }
   ],
   "source": [
    "df2[df2['name']=='Namibia']"
   ]
  },
  {
   "cell_type": "code",
   "execution_count": 14,
   "id": "c0f9759a",
   "metadata": {},
   "outputs": [
    {
     "data": {
      "text/plain": [
       "False    49431\n",
       "Name: name, dtype: int64"
      ]
     },
     "execution_count": 14,
     "metadata": {},
     "output_type": "execute_result"
    }
   ],
   "source": [
    "df2['name'].str.isspace().value_counts()"
   ]
  },
  {
   "cell_type": "code",
   "execution_count": 15,
   "id": "74763c66",
   "metadata": {},
   "outputs": [
    {
     "data": {
      "text/plain": [
       "False    49428\n",
       "Name: iso_3166_1, dtype: int64"
      ]
     },
     "execution_count": 15,
     "metadata": {},
     "output_type": "execute_result"
    }
   ],
   "source": [
    "df2['iso_3166_1'].str.isspace().value_counts()"
   ]
  },
  {
   "cell_type": "code",
   "execution_count": 16,
   "id": "ef8e00e8",
   "metadata": {},
   "outputs": [
    {
     "data": {
      "text/plain": [
       "iso_3166_1    object\n",
       "name          object\n",
       "movie_id       int64\n",
       "dtype: object"
      ]
     },
     "execution_count": 16,
     "metadata": {},
     "output_type": "execute_result"
    }
   ],
   "source": [
    "df2.dtypes"
   ]
  },
  {
   "cell_type": "code",
   "execution_count": 17,
   "id": "15e80484",
   "metadata": {},
   "outputs": [
    {
     "data": {
      "text/html": [
       "<div>\n",
       "<style scoped>\n",
       "    .dataframe tbody tr th:only-of-type {\n",
       "        vertical-align: middle;\n",
       "    }\n",
       "\n",
       "    .dataframe tbody tr th {\n",
       "        vertical-align: top;\n",
       "    }\n",
       "\n",
       "    .dataframe thead th {\n",
       "        text-align: right;\n",
       "    }\n",
       "</style>\n",
       "<table border=\"1\" class=\"dataframe\">\n",
       "  <thead>\n",
       "    <tr style=\"text-align: right;\">\n",
       "      <th></th>\n",
       "      <th>iso_3166_1</th>\n",
       "      <th>name</th>\n",
       "      <th>movie_id</th>\n",
       "    </tr>\n",
       "  </thead>\n",
       "  <tbody>\n",
       "    <tr>\n",
       "      <th>1778</th>\n",
       "      <td>DE</td>\n",
       "      <td>Germany</td>\n",
       "      <td>105045</td>\n",
       "    </tr>\n",
       "    <tr>\n",
       "      <th>4886</th>\n",
       "      <td>JP</td>\n",
       "      <td>Japan</td>\n",
       "      <td>10991</td>\n",
       "    </tr>\n",
       "    <tr>\n",
       "      <th>6626</th>\n",
       "      <td>JP</td>\n",
       "      <td>Japan</td>\n",
       "      <td>12600</td>\n",
       "    </tr>\n",
       "    <tr>\n",
       "      <th>6627</th>\n",
       "      <td>US</td>\n",
       "      <td>United States of America</td>\n",
       "      <td>12600</td>\n",
       "    </tr>\n",
       "    <tr>\n",
       "      <th>10999</th>\n",
       "      <td>FR</td>\n",
       "      <td>France</td>\n",
       "      <td>5511</td>\n",
       "    </tr>\n",
       "    <tr>\n",
       "      <th>...</th>\n",
       "      <td>...</td>\n",
       "      <td>...</td>\n",
       "      <td>...</td>\n",
       "    </tr>\n",
       "    <tr>\n",
       "      <th>48821</th>\n",
       "      <td>JP</td>\n",
       "      <td>Japan</td>\n",
       "      <td>12600</td>\n",
       "    </tr>\n",
       "    <tr>\n",
       "      <th>48822</th>\n",
       "      <td>US</td>\n",
       "      <td>United States of America</td>\n",
       "      <td>12600</td>\n",
       "    </tr>\n",
       "    <tr>\n",
       "      <th>49239</th>\n",
       "      <td>NO</td>\n",
       "      <td>Norway</td>\n",
       "      <td>265189</td>\n",
       "    </tr>\n",
       "    <tr>\n",
       "      <th>49240</th>\n",
       "      <td>SE</td>\n",
       "      <td>Sweden</td>\n",
       "      <td>265189</td>\n",
       "    </tr>\n",
       "    <tr>\n",
       "      <th>49241</th>\n",
       "      <td>FR</td>\n",
       "      <td>France</td>\n",
       "      <td>265189</td>\n",
       "    </tr>\n",
       "  </tbody>\n",
       "</table>\n",
       "<p>63 rows × 3 columns</p>\n",
       "</div>"
      ],
      "text/plain": [
       "      iso_3166_1                      name  movie_id\n",
       "1778          DE                   Germany    105045\n",
       "4886          JP                     Japan     10991\n",
       "6626          JP                     Japan     12600\n",
       "6627          US  United States of America     12600\n",
       "10999         FR                    France      5511\n",
       "...          ...                       ...       ...\n",
       "48821         JP                     Japan     12600\n",
       "48822         US  United States of America     12600\n",
       "49239         NO                    Norway    265189\n",
       "49240         SE                    Sweden    265189\n",
       "49241         FR                    France    265189\n",
       "\n",
       "[63 rows x 3 columns]"
      ]
     },
     "execution_count": 17,
     "metadata": {},
     "output_type": "execute_result"
    }
   ],
   "source": [
    "df2[df2.duplicated()]"
   ]
  },
  {
   "cell_type": "code",
   "execution_count": 18,
   "id": "6349fb84",
   "metadata": {},
   "outputs": [
    {
     "data": {
      "text/html": [
       "<div>\n",
       "<style scoped>\n",
       "    .dataframe tbody tr th:only-of-type {\n",
       "        vertical-align: middle;\n",
       "    }\n",
       "\n",
       "    .dataframe tbody tr th {\n",
       "        vertical-align: top;\n",
       "    }\n",
       "\n",
       "    .dataframe thead th {\n",
       "        text-align: right;\n",
       "    }\n",
       "</style>\n",
       "<table border=\"1\" class=\"dataframe\">\n",
       "  <thead>\n",
       "    <tr style=\"text-align: right;\">\n",
       "      <th></th>\n",
       "      <th>iso_3166_1</th>\n",
       "      <th>name</th>\n",
       "      <th>movie_id</th>\n",
       "    </tr>\n",
       "  </thead>\n",
       "  <tbody>\n",
       "    <tr>\n",
       "      <th>0</th>\n",
       "      <td>US</td>\n",
       "      <td>United States of America</td>\n",
       "      <td>862</td>\n",
       "    </tr>\n",
       "    <tr>\n",
       "      <th>1</th>\n",
       "      <td>US</td>\n",
       "      <td>United States of America</td>\n",
       "      <td>8844</td>\n",
       "    </tr>\n",
       "    <tr>\n",
       "      <th>2</th>\n",
       "      <td>US</td>\n",
       "      <td>United States of America</td>\n",
       "      <td>15602</td>\n",
       "    </tr>\n",
       "    <tr>\n",
       "      <th>3</th>\n",
       "      <td>US</td>\n",
       "      <td>United States of America</td>\n",
       "      <td>31357</td>\n",
       "    </tr>\n",
       "    <tr>\n",
       "      <th>4</th>\n",
       "      <td>US</td>\n",
       "      <td>United States of America</td>\n",
       "      <td>11862</td>\n",
       "    </tr>\n",
       "    <tr>\n",
       "      <th>...</th>\n",
       "      <td>...</td>\n",
       "      <td>...</td>\n",
       "      <td>...</td>\n",
       "    </tr>\n",
       "    <tr>\n",
       "      <th>49426</th>\n",
       "      <td>IR</td>\n",
       "      <td>Iran</td>\n",
       "      <td>439050</td>\n",
       "    </tr>\n",
       "    <tr>\n",
       "      <th>49427</th>\n",
       "      <td>PH</td>\n",
       "      <td>Philippines</td>\n",
       "      <td>111109</td>\n",
       "    </tr>\n",
       "    <tr>\n",
       "      <th>49428</th>\n",
       "      <td>US</td>\n",
       "      <td>United States of America</td>\n",
       "      <td>67758</td>\n",
       "    </tr>\n",
       "    <tr>\n",
       "      <th>49429</th>\n",
       "      <td>RU</td>\n",
       "      <td>Russia</td>\n",
       "      <td>227506</td>\n",
       "    </tr>\n",
       "    <tr>\n",
       "      <th>49430</th>\n",
       "      <td>GB</td>\n",
       "      <td>United Kingdom</td>\n",
       "      <td>461257</td>\n",
       "    </tr>\n",
       "  </tbody>\n",
       "</table>\n",
       "<p>49368 rows × 3 columns</p>\n",
       "</div>"
      ],
      "text/plain": [
       "      iso_3166_1                      name  movie_id\n",
       "0             US  United States of America       862\n",
       "1             US  United States of America      8844\n",
       "2             US  United States of America     15602\n",
       "3             US  United States of America     31357\n",
       "4             US  United States of America     11862\n",
       "...          ...                       ...       ...\n",
       "49426         IR                      Iran    439050\n",
       "49427         PH               Philippines    111109\n",
       "49428         US  United States of America     67758\n",
       "49429         RU                    Russia    227506\n",
       "49430         GB            United Kingdom    461257\n",
       "\n",
       "[49368 rows x 3 columns]"
      ]
     },
     "execution_count": 18,
     "metadata": {},
     "output_type": "execute_result"
    }
   ],
   "source": [
    "df2.drop_duplicates()"
   ]
  },
  {
   "cell_type": "code",
   "execution_count": 19,
   "id": "703b41dd",
   "metadata": {},
   "outputs": [
    {
     "data": {
      "text/plain": [
       "iso_3166_1    object\n",
       "name          object\n",
       "movie_id       int64\n",
       "dtype: object"
      ]
     },
     "execution_count": 19,
     "metadata": {},
     "output_type": "execute_result"
    }
   ],
   "source": [
    "df2.dtypes"
   ]
  },
  {
   "cell_type": "code",
   "execution_count": null,
   "id": "c2a30b97",
   "metadata": {},
   "outputs": [],
   "source": [
    "prodcont.to_csv('Production_countries.csv',index=False)"
   ]
  },
  {
   "cell_type": "markdown",
   "id": "237f38fc",
   "metadata": {},
   "source": [
    "# for spoken language"
   ]
  },
  {
   "cell_type": "code",
   "execution_count": 62,
   "id": "e9ed310e",
   "metadata": {},
   "outputs": [],
   "source": [
    "\n",
    "tempspl=copy.deepcopy(meta[meta['spoken_languages'].isnull()==False])"
   ]
  },
  {
   "cell_type": "code",
   "execution_count": 63,
   "id": "f0185db8",
   "metadata": {},
   "outputs": [],
   "source": [
    "tempspl['spoken_languages'] = tempspl['spoken_languages'].apply(ast.literal_eval)"
   ]
  },
  {
   "cell_type": "code",
   "execution_count": 64,
   "id": "0bb28940",
   "metadata": {},
   "outputs": [],
   "source": [
    "a=[]\n",
    "for index,l1 in tempspl.iterrows():\n",
    "\n",
    "    movid=l1['id']\n",
    "\n",
    "    for dic in l1['spoken_languages']:\n",
    "        if isinstance(dic,dict):\n",
    "            dic['movie_id']=movid\n",
    "        else:\n",
    "            pass\n",
    "        a.append(dic)\n",
    "spl=pd.DataFrame(a)\n"
   ]
  },
  {
   "cell_type": "markdown",
   "id": "1aa1c367",
   "metadata": {},
   "source": [
    "Data cleaning in spoken language"
   ]
  },
  {
   "cell_type": "code",
   "execution_count": 65,
   "id": "8ee334a0",
   "metadata": {},
   "outputs": [
    {
     "data": {
      "text/html": [
       "<div>\n",
       "<style scoped>\n",
       "    .dataframe tbody tr th:only-of-type {\n",
       "        vertical-align: middle;\n",
       "    }\n",
       "\n",
       "    .dataframe tbody tr th {\n",
       "        vertical-align: top;\n",
       "    }\n",
       "\n",
       "    .dataframe thead th {\n",
       "        text-align: right;\n",
       "    }\n",
       "</style>\n",
       "<table border=\"1\" class=\"dataframe\">\n",
       "  <thead>\n",
       "    <tr style=\"text-align: right;\">\n",
       "      <th></th>\n",
       "      <th>iso_639_1</th>\n",
       "      <th>name</th>\n",
       "      <th>movie_id</th>\n",
       "    </tr>\n",
       "  </thead>\n",
       "  <tbody>\n",
       "    <tr>\n",
       "      <th>0</th>\n",
       "      <td>en</td>\n",
       "      <td>English</td>\n",
       "      <td>862</td>\n",
       "    </tr>\n",
       "    <tr>\n",
       "      <th>1</th>\n",
       "      <td>en</td>\n",
       "      <td>English</td>\n",
       "      <td>8844</td>\n",
       "    </tr>\n",
       "    <tr>\n",
       "      <th>2</th>\n",
       "      <td>fr</td>\n",
       "      <td>Français</td>\n",
       "      <td>8844</td>\n",
       "    </tr>\n",
       "    <tr>\n",
       "      <th>3</th>\n",
       "      <td>en</td>\n",
       "      <td>English</td>\n",
       "      <td>15602</td>\n",
       "    </tr>\n",
       "    <tr>\n",
       "      <th>4</th>\n",
       "      <td>en</td>\n",
       "      <td>English</td>\n",
       "      <td>31357</td>\n",
       "    </tr>\n",
       "  </tbody>\n",
       "</table>\n",
       "</div>"
      ],
      "text/plain": [
       "  iso_639_1      name movie_id\n",
       "0        en   English      862\n",
       "1        en   English     8844\n",
       "2        fr  Français     8844\n",
       "3        en   English    15602\n",
       "4        en   English    31357"
      ]
     },
     "execution_count": 65,
     "metadata": {},
     "output_type": "execute_result"
    }
   ],
   "source": [
    "spl.head()"
   ]
  },
  {
   "cell_type": "code",
   "execution_count": 66,
   "id": "9dc6646b",
   "metadata": {},
   "outputs": [
    {
     "data": {
      "text/plain": [
       "(53300, 3)"
      ]
     },
     "execution_count": 66,
     "metadata": {},
     "output_type": "execute_result"
    }
   ],
   "source": [
    "spl.shape"
   ]
  },
  {
   "cell_type": "code",
   "execution_count": 67,
   "id": "8f246536",
   "metadata": {},
   "outputs": [
    {
     "data": {
      "text/plain": [
       "iso_639_1    0\n",
       "name         0\n",
       "movie_id     0\n",
       "dtype: int64"
      ]
     },
     "execution_count": 67,
     "metadata": {},
     "output_type": "execute_result"
    }
   ],
   "source": [
    "spl.isnull().sum()"
   ]
  },
  {
   "cell_type": "code",
   "execution_count": 68,
   "id": "454aa191",
   "metadata": {},
   "outputs": [
    {
     "data": {
      "text/plain": [
       "False    53300\n",
       "Name: name, dtype: int64"
      ]
     },
     "execution_count": 68,
     "metadata": {},
     "output_type": "execute_result"
    }
   ],
   "source": [
    "spl['name'].str.isspace().value_counts()"
   ]
  },
  {
   "cell_type": "code",
   "execution_count": 69,
   "id": "5d15742b",
   "metadata": {},
   "outputs": [
    {
     "data": {
      "text/html": [
       "<div>\n",
       "<style scoped>\n",
       "    .dataframe tbody tr th:only-of-type {\n",
       "        vertical-align: middle;\n",
       "    }\n",
       "\n",
       "    .dataframe tbody tr th {\n",
       "        vertical-align: top;\n",
       "    }\n",
       "\n",
       "    .dataframe thead th {\n",
       "        text-align: right;\n",
       "    }\n",
       "</style>\n",
       "<table border=\"1\" class=\"dataframe\">\n",
       "  <thead>\n",
       "    <tr style=\"text-align: right;\">\n",
       "      <th></th>\n",
       "      <th>iso_639_1</th>\n",
       "      <th>name</th>\n",
       "      <th>movie_id</th>\n",
       "    </tr>\n",
       "  </thead>\n",
       "  <tbody>\n",
       "  </tbody>\n",
       "</table>\n",
       "</div>"
      ],
      "text/plain": [
       "Empty DataFrame\n",
       "Columns: [iso_639_1, name, movie_id]\n",
       "Index: []"
      ]
     },
     "execution_count": 69,
     "metadata": {},
     "output_type": "execute_result"
    }
   ],
   "source": [
    "a=spl[spl['name'].str.isspace()==True]\n",
    "a"
   ]
  },
  {
   "cell_type": "code",
   "execution_count": 56,
   "id": "99af4731",
   "metadata": {},
   "outputs": [
    {
     "data": {
      "text/plain": [
       "str"
      ]
     },
     "execution_count": 56,
     "metadata": {},
     "output_type": "execute_result"
    }
   ],
   "source": [
    "#a=spl['iso_639_1']=='mn'\n",
    "#spl.loc[a,['name']]\n",
    "b=spl.iloc[202,1]\n",
    "type(b)"
   ]
  },
  {
   "cell_type": "code",
   "execution_count": 70,
   "id": "bcce1dca",
   "metadata": {},
   "outputs": [
    {
     "name": "stdout",
     "output_type": "stream",
     "text": [
      "Empty DataFrame\n",
      "Columns: [iso_639_1, name, movie_id]\n",
      "Index: []\n"
     ]
    }
   ],
   "source": [
    "import numpy as np\n",
    "for index, row in a.iterrows():\n",
    "    iso_639_1 = row['iso_639_1']\n",
    "    original_name = df3.loc[df3['iso_639_1'] == iso_639_1, 'name'].values\n",
    "    #print(original_name)\n",
    "    for i in original_name:\n",
    "        if i!=np.nan:\n",
    "            a.at[index, 'name'] = i\n",
    "\n",
    "print(a)"
   ]
  },
  {
   "cell_type": "code",
   "execution_count": 71,
   "id": "41efe338",
   "metadata": {},
   "outputs": [
    {
     "data": {
      "text/plain": [
       "iso_639_1    object\n",
       "name         object\n",
       "movie_id     object\n",
       "dtype: object"
      ]
     },
     "execution_count": 71,
     "metadata": {},
     "output_type": "execute_result"
    }
   ],
   "source": [
    "spl.dtypes"
   ]
  },
  {
   "cell_type": "code",
   "execution_count": 58,
   "id": "450b0bdf",
   "metadata": {},
   "outputs": [
    {
     "data": {
      "text/html": [
       "<div>\n",
       "<style scoped>\n",
       "    .dataframe tbody tr th:only-of-type {\n",
       "        vertical-align: middle;\n",
       "    }\n",
       "\n",
       "    .dataframe tbody tr th {\n",
       "        vertical-align: top;\n",
       "    }\n",
       "\n",
       "    .dataframe thead th {\n",
       "        text-align: right;\n",
       "    }\n",
       "</style>\n",
       "<table border=\"1\" class=\"dataframe\">\n",
       "  <thead>\n",
       "    <tr style=\"text-align: right;\">\n",
       "      <th></th>\n",
       "      <th>iso_639_1</th>\n",
       "      <th>name</th>\n",
       "      <th>movie_id</th>\n",
       "    </tr>\n",
       "  </thead>\n",
       "  <tbody>\n",
       "    <tr>\n",
       "      <th>1947</th>\n",
       "      <td>de</td>\n",
       "      <td>Deutsch</td>\n",
       "      <td>105045</td>\n",
       "    </tr>\n",
       "    <tr>\n",
       "      <th>12247</th>\n",
       "      <td>fr</td>\n",
       "      <td>Français</td>\n",
       "      <td>5511</td>\n",
       "    </tr>\n",
       "    <tr>\n",
       "      <th>12467</th>\n",
       "      <td>hi</td>\n",
       "      <td>हिन्दी</td>\n",
       "      <td>23305</td>\n",
       "    </tr>\n",
       "    <tr>\n",
       "      <th>16281</th>\n",
       "      <td>en</td>\n",
       "      <td>English</td>\n",
       "      <td>14788</td>\n",
       "    </tr>\n",
       "    <tr>\n",
       "      <th>18026</th>\n",
       "      <td>fi</td>\n",
       "      <td>suomi</td>\n",
       "      <td>141971</td>\n",
       "    </tr>\n",
       "    <tr>\n",
       "      <th>20156</th>\n",
       "      <td>en</td>\n",
       "      <td>English</td>\n",
       "      <td>22649</td>\n",
       "    </tr>\n",
       "    <tr>\n",
       "      <th>21015</th>\n",
       "      <td>fa</td>\n",
       "      <td>فارسی</td>\n",
       "      <td>13209</td>\n",
       "    </tr>\n",
       "    <tr>\n",
       "      <th>22245</th>\n",
       "      <td>fi</td>\n",
       "      <td>suomi</td>\n",
       "      <td>141971</td>\n",
       "    </tr>\n",
       "    <tr>\n",
       "      <th>27035</th>\n",
       "      <td>en</td>\n",
       "      <td>English</td>\n",
       "      <td>77221</td>\n",
       "    </tr>\n",
       "    <tr>\n",
       "      <th>27092</th>\n",
       "      <td>en</td>\n",
       "      <td>English</td>\n",
       "      <td>109962</td>\n",
       "    </tr>\n",
       "    <tr>\n",
       "      <th>27340</th>\n",
       "      <td>en</td>\n",
       "      <td>English</td>\n",
       "      <td>84198</td>\n",
       "    </tr>\n",
       "    <tr>\n",
       "      <th>28188</th>\n",
       "      <td>en</td>\n",
       "      <td>English</td>\n",
       "      <td>152795</td>\n",
       "    </tr>\n",
       "    <tr>\n",
       "      <th>28515</th>\n",
       "      <td>en</td>\n",
       "      <td>English</td>\n",
       "      <td>18440</td>\n",
       "    </tr>\n",
       "    <tr>\n",
       "      <th>29521</th>\n",
       "      <td>da</td>\n",
       "      <td>Dansk</td>\n",
       "      <td>25541</td>\n",
       "    </tr>\n",
       "    <tr>\n",
       "      <th>30097</th>\n",
       "      <td>fr</td>\n",
       "      <td>Français</td>\n",
       "      <td>110428</td>\n",
       "    </tr>\n",
       "    <tr>\n",
       "      <th>31534</th>\n",
       "      <td>en</td>\n",
       "      <td>English</td>\n",
       "      <td>11115</td>\n",
       "    </tr>\n",
       "    <tr>\n",
       "      <th>33517</th>\n",
       "      <td>en</td>\n",
       "      <td>English</td>\n",
       "      <td>69234</td>\n",
       "    </tr>\n",
       "    <tr>\n",
       "      <th>33518</th>\n",
       "      <td>it</td>\n",
       "      <td>Italiano</td>\n",
       "      <td>69234</td>\n",
       "    </tr>\n",
       "    <tr>\n",
       "      <th>36424</th>\n",
       "      <td>en</td>\n",
       "      <td>English</td>\n",
       "      <td>42495</td>\n",
       "    </tr>\n",
       "    <tr>\n",
       "      <th>37110</th>\n",
       "      <td>ja</td>\n",
       "      <td>日本語</td>\n",
       "      <td>132641</td>\n",
       "    </tr>\n",
       "    <tr>\n",
       "      <th>41148</th>\n",
       "      <td>cs</td>\n",
       "      <td>Český</td>\n",
       "      <td>15028</td>\n",
       "    </tr>\n",
       "    <tr>\n",
       "      <th>41149</th>\n",
       "      <td>en</td>\n",
       "      <td>English</td>\n",
       "      <td>15028</td>\n",
       "    </tr>\n",
       "    <tr>\n",
       "      <th>41250</th>\n",
       "      <td>en</td>\n",
       "      <td>English</td>\n",
       "      <td>4912</td>\n",
       "    </tr>\n",
       "    <tr>\n",
       "      <th>43351</th>\n",
       "      <td>en</td>\n",
       "      <td>English</td>\n",
       "      <td>159849</td>\n",
       "    </tr>\n",
       "    <tr>\n",
       "      <th>46429</th>\n",
       "      <td>en</td>\n",
       "      <td>English</td>\n",
       "      <td>99080</td>\n",
       "    </tr>\n",
       "    <tr>\n",
       "      <th>47649</th>\n",
       "      <td>en</td>\n",
       "      <td>English</td>\n",
       "      <td>298721</td>\n",
       "    </tr>\n",
       "    <tr>\n",
       "      <th>47650</th>\n",
       "      <td>th</td>\n",
       "      <td>ภาษาไทย</td>\n",
       "      <td>298721</td>\n",
       "    </tr>\n",
       "    <tr>\n",
       "      <th>47896</th>\n",
       "      <td>en</td>\n",
       "      <td>English</td>\n",
       "      <td>97995</td>\n",
       "    </tr>\n",
       "    <tr>\n",
       "      <th>52631</th>\n",
       "      <td>en</td>\n",
       "      <td>English</td>\n",
       "      <td>10991</td>\n",
       "    </tr>\n",
       "    <tr>\n",
       "      <th>52638</th>\n",
       "      <td>ja</td>\n",
       "      <td>日本語</td>\n",
       "      <td>12600</td>\n",
       "    </tr>\n",
       "    <tr>\n",
       "      <th>53097</th>\n",
       "      <td>fr</td>\n",
       "      <td>Français</td>\n",
       "      <td>265189</td>\n",
       "    </tr>\n",
       "    <tr>\n",
       "      <th>53098</th>\n",
       "      <td>no</td>\n",
       "      <td>Norsk</td>\n",
       "      <td>265189</td>\n",
       "    </tr>\n",
       "    <tr>\n",
       "      <th>53099</th>\n",
       "      <td>sv</td>\n",
       "      <td>svenska</td>\n",
       "      <td>265189</td>\n",
       "    </tr>\n",
       "    <tr>\n",
       "      <th>53100</th>\n",
       "      <td>en</td>\n",
       "      <td>English</td>\n",
       "      <td>265189</td>\n",
       "    </tr>\n",
       "  </tbody>\n",
       "</table>\n",
       "</div>"
      ],
      "text/plain": [
       "      iso_639_1      name movie_id\n",
       "1947         de   Deutsch   105045\n",
       "12247        fr  Français     5511\n",
       "12467        hi    हिन्दी    23305\n",
       "16281        en   English    14788\n",
       "18026        fi     suomi   141971\n",
       "20156        en   English    22649\n",
       "21015        fa     فارسی    13209\n",
       "22245        fi     suomi   141971\n",
       "27035        en   English    77221\n",
       "27092        en   English   109962\n",
       "27340        en   English    84198\n",
       "28188        en   English   152795\n",
       "28515        en   English    18440\n",
       "29521        da     Dansk    25541\n",
       "30097        fr  Français   110428\n",
       "31534        en   English    11115\n",
       "33517        en   English    69234\n",
       "33518        it  Italiano    69234\n",
       "36424        en   English    42495\n",
       "37110        ja       日本語   132641\n",
       "41148        cs     Český    15028\n",
       "41149        en   English    15028\n",
       "41250        en   English     4912\n",
       "43351        en   English   159849\n",
       "46429        en   English    99080\n",
       "47649        en   English   298721\n",
       "47650        th   ภาษาไทย   298721\n",
       "47896        en   English    97995\n",
       "52631        en   English    10991\n",
       "52638        ja       日本語    12600\n",
       "53097        fr  Français   265189\n",
       "53098        no     Norsk   265189\n",
       "53099        sv   svenska   265189\n",
       "53100        en   English   265189"
      ]
     },
     "execution_count": 58,
     "metadata": {},
     "output_type": "execute_result"
    }
   ],
   "source": [
    "spl[spl.duplicated()]"
   ]
  },
  {
   "cell_type": "code",
   "execution_count": 72,
   "id": "9aa5b02e",
   "metadata": {},
   "outputs": [],
   "source": [
    "spl.drop_duplicates(inplace=True)"
   ]
  },
  {
   "cell_type": "code",
   "execution_count": 74,
   "id": "557fa2c7",
   "metadata": {},
   "outputs": [],
   "source": [
    "spl['movie_id']=spl['movie_id'].astype(int)"
   ]
  },
  {
   "cell_type": "code",
   "execution_count": 75,
   "id": "51690876",
   "metadata": {},
   "outputs": [
    {
     "data": {
      "text/plain": [
       "iso_639_1    object\n",
       "name         object\n",
       "movie_id      int32\n",
       "dtype: object"
      ]
     },
     "execution_count": 75,
     "metadata": {},
     "output_type": "execute_result"
    }
   ],
   "source": [
    "spl.dtypes"
   ]
  },
  {
   "cell_type": "code",
   "execution_count": 76,
   "id": "b60be1b2",
   "metadata": {},
   "outputs": [
    {
     "data": {
      "text/plain": [
       "(53266, 3)"
      ]
     },
     "execution_count": 76,
     "metadata": {},
     "output_type": "execute_result"
    }
   ],
   "source": [
    "spl.shape"
   ]
  },
  {
   "cell_type": "code",
   "execution_count": 77,
   "id": "d9ceab1a",
   "metadata": {},
   "outputs": [],
   "source": [
    "spl.to_csv('spoken_languages.csv', index=False)"
   ]
  },
  {
   "cell_type": "markdown",
   "id": "af3bd0d7",
   "metadata": {},
   "source": [
    "# cast datachecking and cleaning"
   ]
  },
  {
   "cell_type": "code",
   "execution_count": 30,
   "id": "3fa914aa",
   "metadata": {},
   "outputs": [],
   "source": [
    "cast=pd.read_csv(r'C:\\Users\\Utsav.lakhlani\\Desktop\\Training\\Capstone Project 3\\datadict\\cast.csv')"
   ]
  },
  {
   "cell_type": "code",
   "execution_count": 31,
   "id": "fb18ea40",
   "metadata": {},
   "outputs": [
    {
     "data": {
      "text/plain": [
       "(562474, 9)"
      ]
     },
     "execution_count": 31,
     "metadata": {},
     "output_type": "execute_result"
    }
   ],
   "source": [
    "cast.shape"
   ]
  },
  {
   "cell_type": "code",
   "execution_count": 32,
   "id": "fcd0d07a",
   "metadata": {},
   "outputs": [
    {
     "data": {
      "text/html": [
       "<div>\n",
       "<style scoped>\n",
       "    .dataframe tbody tr th:only-of-type {\n",
       "        vertical-align: middle;\n",
       "    }\n",
       "\n",
       "    .dataframe tbody tr th {\n",
       "        vertical-align: top;\n",
       "    }\n",
       "\n",
       "    .dataframe thead th {\n",
       "        text-align: right;\n",
       "    }\n",
       "</style>\n",
       "<table border=\"1\" class=\"dataframe\">\n",
       "  <thead>\n",
       "    <tr style=\"text-align: right;\">\n",
       "      <th></th>\n",
       "      <th>cast_id</th>\n",
       "      <th>character</th>\n",
       "      <th>credit_id</th>\n",
       "      <th>gender</th>\n",
       "      <th>id</th>\n",
       "      <th>name</th>\n",
       "      <th>order</th>\n",
       "      <th>profile_path</th>\n",
       "      <th>mov_id</th>\n",
       "    </tr>\n",
       "  </thead>\n",
       "  <tbody>\n",
       "    <tr>\n",
       "      <th>25938</th>\n",
       "      <td>5</td>\n",
       "      <td>Sophie II</td>\n",
       "      <td>52fe4a44c3a36847f81c4655</td>\n",
       "      <td>1</td>\n",
       "      <td>680</td>\n",
       "      <td>Corinna Harfouch</td>\n",
       "      <td>0</td>\n",
       "      <td>/oEXqVyUnBLP1JxRVhpT6B3pIe37.jpg</td>\n",
       "      <td>105045</td>\n",
       "    </tr>\n",
       "    <tr>\n",
       "      <th>25939</th>\n",
       "      <td>6</td>\n",
       "      <td>Sophie I</td>\n",
       "      <td>52fe4a44c3a36847f81c4659</td>\n",
       "      <td>1</td>\n",
       "      <td>8790</td>\n",
       "      <td>Meret Becker</td>\n",
       "      <td>1</td>\n",
       "      <td>/104ahKJHYJtZAPZHHJFAoJQkuuv.jpg</td>\n",
       "      <td>105045</td>\n",
       "    </tr>\n",
       "    <tr>\n",
       "      <th>25940</th>\n",
       "      <td>7</td>\n",
       "      <td>Konrad</td>\n",
       "      <td>536a992bc3a368124a0085a9</td>\n",
       "      <td>2</td>\n",
       "      <td>11951</td>\n",
       "      <td>August Zirner</td>\n",
       "      <td>2</td>\n",
       "      <td>/51Bgab3YLjCFIbJoFiXrSK95BXI.jpg</td>\n",
       "      <td>105045</td>\n",
       "    </tr>\n",
       "    <tr>\n",
       "      <th>25941</th>\n",
       "      <td>8</td>\n",
       "      <td>Barbara</td>\n",
       "      <td>536a993bc3a3681231008608</td>\n",
       "      <td>1</td>\n",
       "      <td>10627</td>\n",
       "      <td>Eva Mattes</td>\n",
       "      <td>3</td>\n",
       "      <td>/9qUzPuHrQ2DV64CycNJMUFq4YvB.jpg</td>\n",
       "      <td>105045</td>\n",
       "    </tr>\n",
       "    <tr>\n",
       "      <th>25942</th>\n",
       "      <td>9</td>\n",
       "      <td>Müller</td>\n",
       "      <td>536a9948c3a3681226008272</td>\n",
       "      <td>2</td>\n",
       "      <td>1865</td>\n",
       "      <td>Hark Bohm</td>\n",
       "      <td>4</td>\n",
       "      <td>/ptmIE7lSIiCS6mlXHOz3WgT7D43.jpg</td>\n",
       "      <td>105045</td>\n",
       "    </tr>\n",
       "    <tr>\n",
       "      <th>...</th>\n",
       "      <td>...</td>\n",
       "      <td>...</td>\n",
       "      <td>...</td>\n",
       "      <td>...</td>\n",
       "      <td>...</td>\n",
       "      <td>...</td>\n",
       "      <td>...</td>\n",
       "      <td>...</td>\n",
       "      <td>...</td>\n",
       "    </tr>\n",
       "    <tr>\n",
       "      <th>560894</th>\n",
       "      <td>6</td>\n",
       "      <td>Brady</td>\n",
       "      <td>543c0752c3a3681990005db1</td>\n",
       "      <td>2</td>\n",
       "      <td>55493</td>\n",
       "      <td>Brady Corbet</td>\n",
       "      <td>5</td>\n",
       "      <td>/cnlvcYJP4UyeKdbCCuTKvFkjWSH.jpg</td>\n",
       "      <td>265189</td>\n",
       "    </tr>\n",
       "    <tr>\n",
       "      <th>560895</th>\n",
       "      <td>7</td>\n",
       "      <td>Mats</td>\n",
       "      <td>54af17919251413fe1000473</td>\n",
       "      <td>2</td>\n",
       "      <td>571418</td>\n",
       "      <td>Kristofer Hivju</td>\n",
       "      <td>6</td>\n",
       "      <td>/qlGV5b8FMx2Ut1fgmm6TDc1fHxC.jpg</td>\n",
       "      <td>265189</td>\n",
       "    </tr>\n",
       "    <tr>\n",
       "      <th>560896</th>\n",
       "      <td>8</td>\n",
       "      <td>Fanni</td>\n",
       "      <td>54af179fc3a3683fba002768</td>\n",
       "      <td>0</td>\n",
       "      <td>1410873</td>\n",
       "      <td>Fanni Metelius</td>\n",
       "      <td>7</td>\n",
       "      <td>NaN</td>\n",
       "      <td>265189</td>\n",
       "    </tr>\n",
       "    <tr>\n",
       "      <th>560897</th>\n",
       "      <td>9</td>\n",
       "      <td>Charlotte</td>\n",
       "      <td>54af17ac925141152c002647</td>\n",
       "      <td>0</td>\n",
       "      <td>1410874</td>\n",
       "      <td>Karin Myrenberg</td>\n",
       "      <td>8</td>\n",
       "      <td>NaN</td>\n",
       "      <td>265189</td>\n",
       "    </tr>\n",
       "    <tr>\n",
       "      <th>560898</th>\n",
       "      <td>10</td>\n",
       "      <td>Cleaner</td>\n",
       "      <td>54af17be9251411ef60029dd</td>\n",
       "      <td>0</td>\n",
       "      <td>1410875</td>\n",
       "      <td>Johannes Moustos</td>\n",
       "      <td>9</td>\n",
       "      <td>NaN</td>\n",
       "      <td>265189</td>\n",
       "    </tr>\n",
       "  </tbody>\n",
       "</table>\n",
       "<p>430 rows × 9 columns</p>\n",
       "</div>"
      ],
      "text/plain": [
       "        cast_id  character                 credit_id  gender       id  \\\n",
       "25938         5  Sophie II  52fe4a44c3a36847f81c4655       1      680   \n",
       "25939         6   Sophie I  52fe4a44c3a36847f81c4659       1     8790   \n",
       "25940         7     Konrad  536a992bc3a368124a0085a9       2    11951   \n",
       "25941         8    Barbara  536a993bc3a3681231008608       1    10627   \n",
       "25942         9     Müller  536a9948c3a3681226008272       2     1865   \n",
       "...         ...        ...                       ...     ...      ...   \n",
       "560894        6      Brady  543c0752c3a3681990005db1       2    55493   \n",
       "560895        7       Mats  54af17919251413fe1000473       2   571418   \n",
       "560896        8      Fanni  54af179fc3a3683fba002768       0  1410873   \n",
       "560897        9  Charlotte  54af17ac925141152c002647       0  1410874   \n",
       "560898       10    Cleaner  54af17be9251411ef60029dd       0  1410875   \n",
       "\n",
       "                    name  order                      profile_path  mov_id  \n",
       "25938   Corinna Harfouch      0  /oEXqVyUnBLP1JxRVhpT6B3pIe37.jpg  105045  \n",
       "25939       Meret Becker      1  /104ahKJHYJtZAPZHHJFAoJQkuuv.jpg  105045  \n",
       "25940      August Zirner      2  /51Bgab3YLjCFIbJoFiXrSK95BXI.jpg  105045  \n",
       "25941         Eva Mattes      3  /9qUzPuHrQ2DV64CycNJMUFq4YvB.jpg  105045  \n",
       "25942          Hark Bohm      4  /ptmIE7lSIiCS6mlXHOz3WgT7D43.jpg  105045  \n",
       "...                  ...    ...                               ...     ...  \n",
       "560894      Brady Corbet      5  /cnlvcYJP4UyeKdbCCuTKvFkjWSH.jpg  265189  \n",
       "560895   Kristofer Hivju      6  /qlGV5b8FMx2Ut1fgmm6TDc1fHxC.jpg  265189  \n",
       "560896    Fanni Metelius      7                               NaN  265189  \n",
       "560897   Karin Myrenberg      8                               NaN  265189  \n",
       "560898  Johannes Moustos      9                               NaN  265189  \n",
       "\n",
       "[430 rows x 9 columns]"
      ]
     },
     "execution_count": 32,
     "metadata": {},
     "output_type": "execute_result"
    }
   ],
   "source": [
    "cast[cast.duplicated()]"
   ]
  },
  {
   "cell_type": "code",
   "execution_count": 33,
   "id": "ec1e6af4",
   "metadata": {},
   "outputs": [],
   "source": [
    "cast.drop_duplicates(inplace=True)"
   ]
  },
  {
   "cell_type": "code",
   "execution_count": 34,
   "id": "7cc045a9",
   "metadata": {},
   "outputs": [
    {
     "data": {
      "text/plain": [
       "(562044, 9)"
      ]
     },
     "execution_count": 34,
     "metadata": {},
     "output_type": "execute_result"
    }
   ],
   "source": [
    "cast.shape"
   ]
  },
  {
   "cell_type": "code",
   "execution_count": 35,
   "id": "a7e3dae4",
   "metadata": {},
   "outputs": [
    {
     "name": "stdout",
     "output_type": "stream",
     "text": [
      "<class 'pandas.core.frame.DataFrame'>\n",
      "Int64Index: 562044 entries, 0 to 562473\n",
      "Data columns (total 9 columns):\n",
      " #   Column        Non-Null Count   Dtype \n",
      "---  ------        --------------   ----- \n",
      " 0   cast_id       562044 non-null  int64 \n",
      " 1   character     536277 non-null  object\n",
      " 2   credit_id     562044 non-null  object\n",
      " 3   gender        562044 non-null  int64 \n",
      " 4   id            562044 non-null  int64 \n",
      " 5   name          562044 non-null  object\n",
      " 6   order         562044 non-null  int64 \n",
      " 7   profile_path  388366 non-null  object\n",
      " 8   mov_id        562044 non-null  int64 \n",
      "dtypes: int64(5), object(4)\n",
      "memory usage: 42.9+ MB\n"
     ]
    }
   ],
   "source": [
    "cast.info()"
   ]
  },
  {
   "cell_type": "code",
   "execution_count": 36,
   "id": "eac9f5df",
   "metadata": {},
   "outputs": [
    {
     "data": {
      "text/plain": [
       "False    536276\n",
       "True          1\n",
       "Name: character, dtype: int64"
      ]
     },
     "execution_count": 36,
     "metadata": {},
     "output_type": "execute_result"
    }
   ],
   "source": [
    "cast['character'].str.isspace().value_counts()"
   ]
  },
  {
   "cell_type": "code",
   "execution_count": 37,
   "id": "e2048103",
   "metadata": {},
   "outputs": [
    {
     "data": {
      "text/html": [
       "<div>\n",
       "<style scoped>\n",
       "    .dataframe tbody tr th:only-of-type {\n",
       "        vertical-align: middle;\n",
       "    }\n",
       "\n",
       "    .dataframe tbody tr th {\n",
       "        vertical-align: top;\n",
       "    }\n",
       "\n",
       "    .dataframe thead th {\n",
       "        text-align: right;\n",
       "    }\n",
       "</style>\n",
       "<table border=\"1\" class=\"dataframe\">\n",
       "  <thead>\n",
       "    <tr style=\"text-align: right;\">\n",
       "      <th></th>\n",
       "      <th>cast_id</th>\n",
       "      <th>character</th>\n",
       "      <th>credit_id</th>\n",
       "      <th>gender</th>\n",
       "      <th>id</th>\n",
       "      <th>name</th>\n",
       "      <th>order</th>\n",
       "      <th>profile_path</th>\n",
       "      <th>mov_id</th>\n",
       "    </tr>\n",
       "  </thead>\n",
       "  <tbody>\n",
       "    <tr>\n",
       "      <th>401013</th>\n",
       "      <td>13</td>\n",
       "      <td></td>\n",
       "      <td>52fe4ddfc3a368484e2023bd</td>\n",
       "      <td>0</td>\n",
       "      <td>1199095</td>\n",
       "      <td>Donna Germain</td>\n",
       "      <td>10</td>\n",
       "      <td>NaN</td>\n",
       "      <td>214447</td>\n",
       "    </tr>\n",
       "  </tbody>\n",
       "</table>\n",
       "</div>"
      ],
      "text/plain": [
       "        cast_id character                 credit_id  gender       id  \\\n",
       "401013       13            52fe4ddfc3a368484e2023bd       0  1199095   \n",
       "\n",
       "                 name  order profile_path  mov_id  \n",
       "401013  Donna Germain     10          NaN  214447  "
      ]
     },
     "execution_count": 37,
     "metadata": {},
     "output_type": "execute_result"
    }
   ],
   "source": [
    "cast[cast['character'].str.isspace()==True]"
   ]
  },
  {
   "cell_type": "code",
   "execution_count": 38,
   "id": "e8831ece",
   "metadata": {},
   "outputs": [],
   "source": [
    "cast.iloc[400698,1]=cast.iloc[400698,1].replace(' ','')"
   ]
  },
  {
   "cell_type": "code",
   "execution_count": 39,
   "id": "dab749cf",
   "metadata": {},
   "outputs": [
    {
     "data": {
      "text/html": [
       "<div>\n",
       "<style scoped>\n",
       "    .dataframe tbody tr th:only-of-type {\n",
       "        vertical-align: middle;\n",
       "    }\n",
       "\n",
       "    .dataframe tbody tr th {\n",
       "        vertical-align: top;\n",
       "    }\n",
       "\n",
       "    .dataframe thead th {\n",
       "        text-align: right;\n",
       "    }\n",
       "</style>\n",
       "<table border=\"1\" class=\"dataframe\">\n",
       "  <thead>\n",
       "    <tr style=\"text-align: right;\">\n",
       "      <th></th>\n",
       "      <th>cast_id</th>\n",
       "      <th>character</th>\n",
       "      <th>credit_id</th>\n",
       "      <th>gender</th>\n",
       "      <th>id</th>\n",
       "      <th>name</th>\n",
       "      <th>order</th>\n",
       "      <th>profile_path</th>\n",
       "      <th>mov_id</th>\n",
       "    </tr>\n",
       "  </thead>\n",
       "  <tbody>\n",
       "  </tbody>\n",
       "</table>\n",
       "</div>"
      ],
      "text/plain": [
       "Empty DataFrame\n",
       "Columns: [cast_id, character, credit_id, gender, id, name, order, profile_path, mov_id]\n",
       "Index: []"
      ]
     },
     "execution_count": 39,
     "metadata": {},
     "output_type": "execute_result"
    }
   ],
   "source": [
    "cast[cast['character'].str.isspace()==True]"
   ]
  },
  {
   "cell_type": "code",
   "execution_count": 40,
   "id": "de4b7699",
   "metadata": {},
   "outputs": [
    {
     "data": {
      "text/plain": [
       "False    562044\n",
       "Name: credit_id, dtype: int64"
      ]
     },
     "execution_count": 40,
     "metadata": {},
     "output_type": "execute_result"
    }
   ],
   "source": [
    "cast['credit_id'].str.isspace().value_counts()"
   ]
  },
  {
   "cell_type": "code",
   "execution_count": 41,
   "id": "62edb6b8",
   "metadata": {},
   "outputs": [
    {
     "data": {
      "text/plain": [
       "False    562044\n",
       "Name: name, dtype: int64"
      ]
     },
     "execution_count": 41,
     "metadata": {},
     "output_type": "execute_result"
    }
   ],
   "source": [
    "cast['name'].str.isspace().value_counts()"
   ]
  },
  {
   "cell_type": "code",
   "execution_count": 42,
   "id": "2a4feff0",
   "metadata": {},
   "outputs": [
    {
     "data": {
      "text/plain": [
       "False    388366\n",
       "Name: profile_path, dtype: int64"
      ]
     },
     "execution_count": 42,
     "metadata": {},
     "output_type": "execute_result"
    }
   ],
   "source": [
    "cast['profile_path'].str.isspace().value_counts()"
   ]
  },
  {
   "cell_type": "markdown",
   "id": "163dd645",
   "metadata": {},
   "source": [
    "# crew datachecking and datacleaning"
   ]
  },
  {
   "cell_type": "code",
   "execution_count": 43,
   "id": "9c211f99",
   "metadata": {},
   "outputs": [],
   "source": [
    "crew=pd.read_csv(r\"C:\\Users\\Utsav.lakhlani\\Desktop\\Training\\Capstone Project 3\\datadict\\crew.csv\")"
   ]
  },
  {
   "cell_type": "code",
   "execution_count": 44,
   "id": "3a6cf378",
   "metadata": {},
   "outputs": [
    {
     "data": {
      "text/plain": [
       "(464314, 8)"
      ]
     },
     "execution_count": 44,
     "metadata": {},
     "output_type": "execute_result"
    }
   ],
   "source": [
    "crew.shape"
   ]
  },
  {
   "cell_type": "code",
   "execution_count": 45,
   "id": "84014867",
   "metadata": {},
   "outputs": [
    {
     "data": {
      "text/html": [
       "<div>\n",
       "<style scoped>\n",
       "    .dataframe tbody tr th:only-of-type {\n",
       "        vertical-align: middle;\n",
       "    }\n",
       "\n",
       "    .dataframe tbody tr th {\n",
       "        vertical-align: top;\n",
       "    }\n",
       "\n",
       "    .dataframe thead th {\n",
       "        text-align: right;\n",
       "    }\n",
       "</style>\n",
       "<table border=\"1\" class=\"dataframe\">\n",
       "  <thead>\n",
       "    <tr style=\"text-align: right;\">\n",
       "      <th></th>\n",
       "      <th>credit_id</th>\n",
       "      <th>department</th>\n",
       "      <th>gender</th>\n",
       "      <th>id</th>\n",
       "      <th>job</th>\n",
       "      <th>name</th>\n",
       "      <th>profile_path</th>\n",
       "      <th>mov_id</th>\n",
       "    </tr>\n",
       "  </thead>\n",
       "  <tbody>\n",
       "    <tr>\n",
       "      <th>23282</th>\n",
       "      <td>52fe4a44c3a36847f81c463f</td>\n",
       "      <td>Directing</td>\n",
       "      <td>1</td>\n",
       "      <td>39298</td>\n",
       "      <td>Director</td>\n",
       "      <td>Margarethe von Trotta</td>\n",
       "      <td>/inHCKINOzP9gby9zCIMm902i1ln.jpg</td>\n",
       "      <td>105045</td>\n",
       "    </tr>\n",
       "    <tr>\n",
       "      <th>23283</th>\n",
       "      <td>52fe4a44c3a36847f81c4645</td>\n",
       "      <td>Writing</td>\n",
       "      <td>2</td>\n",
       "      <td>169302</td>\n",
       "      <td>Writer</td>\n",
       "      <td>Peter Schneider</td>\n",
       "      <td>NaN</td>\n",
       "      <td>105045</td>\n",
       "    </tr>\n",
       "    <tr>\n",
       "      <th>23284</th>\n",
       "      <td>52fe4a44c3a36847f81c464b</td>\n",
       "      <td>Writing</td>\n",
       "      <td>0</td>\n",
       "      <td>1037349</td>\n",
       "      <td>Writer</td>\n",
       "      <td>Felice Laudadio</td>\n",
       "      <td>NaN</td>\n",
       "      <td>105045</td>\n",
       "    </tr>\n",
       "    <tr>\n",
       "      <th>23285</th>\n",
       "      <td>52fe4a44c3a36847f81c4651</td>\n",
       "      <td>Writing</td>\n",
       "      <td>1</td>\n",
       "      <td>39298</td>\n",
       "      <td>Writer</td>\n",
       "      <td>Margarethe von Trotta</td>\n",
       "      <td>/inHCKINOzP9gby9zCIMm902i1ln.jpg</td>\n",
       "      <td>105045</td>\n",
       "    </tr>\n",
       "    <tr>\n",
       "      <th>136637</th>\n",
       "      <td>52fe440ac3a36847f807ee01</td>\n",
       "      <td>Camera</td>\n",
       "      <td>2</td>\n",
       "      <td>1657</td>\n",
       "      <td>Director of Photography</td>\n",
       "      <td>Henri Decaë</td>\n",
       "      <td>NaN</td>\n",
       "      <td>5511</td>\n",
       "    </tr>\n",
       "    <tr>\n",
       "      <th>...</th>\n",
       "      <td>...</td>\n",
       "      <td>...</td>\n",
       "      <td>...</td>\n",
       "      <td>...</td>\n",
       "      <td>...</td>\n",
       "      <td>...</td>\n",
       "      <td>...</td>\n",
       "      <td>...</td>\n",
       "    </tr>\n",
       "    <tr>\n",
       "      <th>463281</th>\n",
       "      <td>54af183d9251411ef60029eb</td>\n",
       "      <td>Editing</td>\n",
       "      <td>0</td>\n",
       "      <td>1154242</td>\n",
       "      <td>Editor</td>\n",
       "      <td>Jacob Secher Schulsinger</td>\n",
       "      <td>NaN</td>\n",
       "      <td>265189</td>\n",
       "    </tr>\n",
       "    <tr>\n",
       "      <th>463282</th>\n",
       "      <td>54af18499251414a3d000441</td>\n",
       "      <td>Production</td>\n",
       "      <td>0</td>\n",
       "      <td>1410878</td>\n",
       "      <td>Casting</td>\n",
       "      <td>Katja Wik</td>\n",
       "      <td>NaN</td>\n",
       "      <td>265189</td>\n",
       "    </tr>\n",
       "    <tr>\n",
       "      <th>463283</th>\n",
       "      <td>54af185592514169e0002b00</td>\n",
       "      <td>Art</td>\n",
       "      <td>0</td>\n",
       "      <td>1156989</td>\n",
       "      <td>Production Design</td>\n",
       "      <td>Josefin Åsberg</td>\n",
       "      <td>NaN</td>\n",
       "      <td>265189</td>\n",
       "    </tr>\n",
       "    <tr>\n",
       "      <th>463284</th>\n",
       "      <td>54af1862c3a3682e400004a7</td>\n",
       "      <td>Art</td>\n",
       "      <td>0</td>\n",
       "      <td>1156989</td>\n",
       "      <td>Art Direction</td>\n",
       "      <td>Josefin Åsberg</td>\n",
       "      <td>NaN</td>\n",
       "      <td>265189</td>\n",
       "    </tr>\n",
       "    <tr>\n",
       "      <th>463285</th>\n",
       "      <td>54af186fc3a3684abf001002</td>\n",
       "      <td>Costume &amp; Make-Up</td>\n",
       "      <td>0</td>\n",
       "      <td>1410879</td>\n",
       "      <td>Costume Design</td>\n",
       "      <td>Pia Aleborg</td>\n",
       "      <td>NaN</td>\n",
       "      <td>265189</td>\n",
       "    </tr>\n",
       "  </tbody>\n",
       "</table>\n",
       "<p>478 rows × 8 columns</p>\n",
       "</div>"
      ],
      "text/plain": [
       "                       credit_id         department  gender       id  \\\n",
       "23282   52fe4a44c3a36847f81c463f          Directing       1    39298   \n",
       "23283   52fe4a44c3a36847f81c4645            Writing       2   169302   \n",
       "23284   52fe4a44c3a36847f81c464b            Writing       0  1037349   \n",
       "23285   52fe4a44c3a36847f81c4651            Writing       1    39298   \n",
       "136637  52fe440ac3a36847f807ee01             Camera       2     1657   \n",
       "...                          ...                ...     ...      ...   \n",
       "463281  54af183d9251411ef60029eb            Editing       0  1154242   \n",
       "463282  54af18499251414a3d000441         Production       0  1410878   \n",
       "463283  54af185592514169e0002b00                Art       0  1156989   \n",
       "463284  54af1862c3a3682e400004a7                Art       0  1156989   \n",
       "463285  54af186fc3a3684abf001002  Costume & Make-Up       0  1410879   \n",
       "\n",
       "                            job                      name  \\\n",
       "23282                  Director     Margarethe von Trotta   \n",
       "23283                    Writer           Peter Schneider   \n",
       "23284                    Writer           Felice Laudadio   \n",
       "23285                    Writer     Margarethe von Trotta   \n",
       "136637  Director of Photography               Henri Decaë   \n",
       "...                         ...                       ...   \n",
       "463281                   Editor  Jacob Secher Schulsinger   \n",
       "463282                  Casting                 Katja Wik   \n",
       "463283        Production Design            Josefin Åsberg   \n",
       "463284            Art Direction            Josefin Åsberg   \n",
       "463285           Costume Design               Pia Aleborg   \n",
       "\n",
       "                            profile_path  mov_id  \n",
       "23282   /inHCKINOzP9gby9zCIMm902i1ln.jpg  105045  \n",
       "23283                                NaN  105045  \n",
       "23284                                NaN  105045  \n",
       "23285   /inHCKINOzP9gby9zCIMm902i1ln.jpg  105045  \n",
       "136637                               NaN    5511  \n",
       "...                                  ...     ...  \n",
       "463281                               NaN  265189  \n",
       "463282                               NaN  265189  \n",
       "463283                               NaN  265189  \n",
       "463284                               NaN  265189  \n",
       "463285                               NaN  265189  \n",
       "\n",
       "[478 rows x 8 columns]"
      ]
     },
     "execution_count": 45,
     "metadata": {},
     "output_type": "execute_result"
    }
   ],
   "source": [
    "crew[crew.duplicated()]"
   ]
  },
  {
   "cell_type": "code",
   "execution_count": 46,
   "id": "478b757f",
   "metadata": {},
   "outputs": [],
   "source": [
    "crew.drop_duplicates(inplace=True)"
   ]
  },
  {
   "cell_type": "code",
   "execution_count": 47,
   "id": "459d0cc0",
   "metadata": {},
   "outputs": [
    {
     "data": {
      "text/plain": [
       "(463836, 8)"
      ]
     },
     "execution_count": 47,
     "metadata": {},
     "output_type": "execute_result"
    }
   ],
   "source": [
    "crew.shape"
   ]
  },
  {
   "cell_type": "code",
   "execution_count": 48,
   "id": "df965e9d",
   "metadata": {},
   "outputs": [
    {
     "name": "stdout",
     "output_type": "stream",
     "text": [
      "<class 'pandas.core.frame.DataFrame'>\n",
      "Int64Index: 463836 entries, 0 to 464313\n",
      "Data columns (total 8 columns):\n",
      " #   Column        Non-Null Count   Dtype \n",
      "---  ------        --------------   ----- \n",
      " 0   credit_id     463836 non-null  object\n",
      " 1   department    463836 non-null  object\n",
      " 2   gender        463836 non-null  int64 \n",
      " 3   id            463836 non-null  int64 \n",
      " 4   job           463836 non-null  object\n",
      " 5   name          463836 non-null  object\n",
      " 6   profile_path  95001 non-null   object\n",
      " 7   mov_id        463836 non-null  int64 \n",
      "dtypes: int64(3), object(5)\n",
      "memory usage: 31.8+ MB\n"
     ]
    }
   ],
   "source": [
    "crew.info()"
   ]
  },
  {
   "cell_type": "code",
   "execution_count": 49,
   "id": "763ef2da",
   "metadata": {},
   "outputs": [
    {
     "data": {
      "text/plain": [
       "False    463836\n",
       "Name: credit_id, dtype: int64"
      ]
     },
     "execution_count": 49,
     "metadata": {},
     "output_type": "execute_result"
    }
   ],
   "source": [
    "crew['credit_id'].str.isspace().value_counts()"
   ]
  },
  {
   "cell_type": "code",
   "execution_count": 50,
   "id": "4ce453f5",
   "metadata": {},
   "outputs": [
    {
     "data": {
      "text/plain": [
       "False    463836\n",
       "Name: department, dtype: int64"
      ]
     },
     "execution_count": 50,
     "metadata": {},
     "output_type": "execute_result"
    }
   ],
   "source": [
    "crew['department'].str.isspace().value_counts()"
   ]
  },
  {
   "cell_type": "code",
   "execution_count": 51,
   "id": "bd3b4415",
   "metadata": {},
   "outputs": [
    {
     "data": {
      "text/plain": [
       "False    463836\n",
       "Name: job, dtype: int64"
      ]
     },
     "execution_count": 51,
     "metadata": {},
     "output_type": "execute_result"
    }
   ],
   "source": [
    "crew['job'].str.isspace().value_counts()"
   ]
  },
  {
   "cell_type": "code",
   "execution_count": 52,
   "id": "48c23dd4",
   "metadata": {},
   "outputs": [
    {
     "data": {
      "text/plain": [
       "False    463836\n",
       "Name: name, dtype: int64"
      ]
     },
     "execution_count": 52,
     "metadata": {},
     "output_type": "execute_result"
    }
   ],
   "source": [
    "crew['name'].str.isspace().value_counts()"
   ]
  },
  {
   "cell_type": "code",
   "execution_count": 53,
   "id": "3f2ce181",
   "metadata": {},
   "outputs": [
    {
     "data": {
      "text/plain": [
       "False    95001\n",
       "Name: profile_path, dtype: int64"
      ]
     },
     "execution_count": 53,
     "metadata": {},
     "output_type": "execute_result"
    }
   ],
   "source": [
    "crew['profile_path'].str.isspace().value_counts()"
   ]
  },
  {
   "cell_type": "markdown",
   "id": "3b59f3e7",
   "metadata": {},
   "source": [
    "# for keywords"
   ]
  },
  {
   "cell_type": "code",
   "execution_count": 31,
   "id": "e8536d14",
   "metadata": {},
   "outputs": [],
   "source": [
    "df1=pd.read_csv(r'C:\\Users\\sambangi.bindu\\Downloads\\Capstone Project 3\\Capstone Project 3\\Data\\keywords.csv')"
   ]
  },
  {
   "cell_type": "code",
   "execution_count": 32,
   "id": "95786dab",
   "metadata": {},
   "outputs": [
    {
     "data": {
      "text/html": [
       "<div>\n",
       "<style scoped>\n",
       "    .dataframe tbody tr th:only-of-type {\n",
       "        vertical-align: middle;\n",
       "    }\n",
       "\n",
       "    .dataframe tbody tr th {\n",
       "        vertical-align: top;\n",
       "    }\n",
       "\n",
       "    .dataframe thead th {\n",
       "        text-align: right;\n",
       "    }\n",
       "</style>\n",
       "<table border=\"1\" class=\"dataframe\">\n",
       "  <thead>\n",
       "    <tr style=\"text-align: right;\">\n",
       "      <th></th>\n",
       "      <th>id</th>\n",
       "      <th>keywords</th>\n",
       "    </tr>\n",
       "  </thead>\n",
       "  <tbody>\n",
       "    <tr>\n",
       "      <th>0</th>\n",
       "      <td>862</td>\n",
       "      <td>[{'id': 931, 'name': 'jealousy'}, {'id': 4290,...</td>\n",
       "    </tr>\n",
       "    <tr>\n",
       "      <th>1</th>\n",
       "      <td>8844</td>\n",
       "      <td>[{'id': 10090, 'name': 'board game'}, {'id': 1...</td>\n",
       "    </tr>\n",
       "    <tr>\n",
       "      <th>2</th>\n",
       "      <td>15602</td>\n",
       "      <td>[{'id': 1495, 'name': 'fishing'}, {'id': 12392...</td>\n",
       "    </tr>\n",
       "    <tr>\n",
       "      <th>3</th>\n",
       "      <td>31357</td>\n",
       "      <td>[{'id': 818, 'name': 'based on novel'}, {'id':...</td>\n",
       "    </tr>\n",
       "    <tr>\n",
       "      <th>4</th>\n",
       "      <td>11862</td>\n",
       "      <td>[{'id': 1009, 'name': 'baby'}, {'id': 1599, 'n...</td>\n",
       "    </tr>\n",
       "  </tbody>\n",
       "</table>\n",
       "</div>"
      ],
      "text/plain": [
       "      id                                           keywords\n",
       "0    862  [{'id': 931, 'name': 'jealousy'}, {'id': 4290,...\n",
       "1   8844  [{'id': 10090, 'name': 'board game'}, {'id': 1...\n",
       "2  15602  [{'id': 1495, 'name': 'fishing'}, {'id': 12392...\n",
       "3  31357  [{'id': 818, 'name': 'based on novel'}, {'id':...\n",
       "4  11862  [{'id': 1009, 'name': 'baby'}, {'id': 1599, 'n..."
      ]
     },
     "execution_count": 32,
     "metadata": {},
     "output_type": "execute_result"
    }
   ],
   "source": [
    "df1.head()"
   ]
  },
  {
   "cell_type": "code",
   "execution_count": 33,
   "id": "e2ed78be",
   "metadata": {},
   "outputs": [
    {
     "data": {
      "text/plain": [
       "(46419, 2)"
      ]
     },
     "execution_count": 33,
     "metadata": {},
     "output_type": "execute_result"
    }
   ],
   "source": [
    "df1.shape"
   ]
  },
  {
   "cell_type": "code",
   "execution_count": 34,
   "id": "beedbe65",
   "metadata": {},
   "outputs": [],
   "source": [
    "df1['keywords'] = df1['keywords'].apply(ast.literal_eval)"
   ]
  },
  {
   "cell_type": "code",
   "execution_count": 35,
   "id": "8f4d7ea8",
   "metadata": {},
   "outputs": [],
   "source": [
    "for index,l1 in df1.iterrows():\n",
    "    movid=l1['id']\n",
    "    for dic in l1['keywords']:\n",
    "        dic['mov_id']=movid"
   ]
  },
  {
   "cell_type": "code",
   "execution_count": 36,
   "id": "01108e65",
   "metadata": {},
   "outputs": [],
   "source": [
    "a=[]\n",
    "for i in df1['keywords']:\n",
    "    for dic in i:\n",
    "        a.append(dic)"
   ]
  },
  {
   "cell_type": "code",
   "execution_count": 37,
   "id": "d0ab3fb2",
   "metadata": {},
   "outputs": [],
   "source": [
    "keywords=pd.DataFrame(a)"
   ]
  },
  {
   "cell_type": "code",
   "execution_count": 38,
   "id": "2f82da3d",
   "metadata": {},
   "outputs": [
    {
     "data": {
      "text/html": [
       "<div>\n",
       "<style scoped>\n",
       "    .dataframe tbody tr th:only-of-type {\n",
       "        vertical-align: middle;\n",
       "    }\n",
       "\n",
       "    .dataframe tbody tr th {\n",
       "        vertical-align: top;\n",
       "    }\n",
       "\n",
       "    .dataframe thead th {\n",
       "        text-align: right;\n",
       "    }\n",
       "</style>\n",
       "<table border=\"1\" class=\"dataframe\">\n",
       "  <thead>\n",
       "    <tr style=\"text-align: right;\">\n",
       "      <th></th>\n",
       "      <th>id</th>\n",
       "      <th>name</th>\n",
       "      <th>mov_id</th>\n",
       "    </tr>\n",
       "  </thead>\n",
       "  <tbody>\n",
       "    <tr>\n",
       "      <th>0</th>\n",
       "      <td>931</td>\n",
       "      <td>jealousy</td>\n",
       "      <td>862</td>\n",
       "    </tr>\n",
       "    <tr>\n",
       "      <th>1</th>\n",
       "      <td>4290</td>\n",
       "      <td>toy</td>\n",
       "      <td>862</td>\n",
       "    </tr>\n",
       "    <tr>\n",
       "      <th>2</th>\n",
       "      <td>5202</td>\n",
       "      <td>boy</td>\n",
       "      <td>862</td>\n",
       "    </tr>\n",
       "    <tr>\n",
       "      <th>3</th>\n",
       "      <td>6054</td>\n",
       "      <td>friendship</td>\n",
       "      <td>862</td>\n",
       "    </tr>\n",
       "    <tr>\n",
       "      <th>4</th>\n",
       "      <td>9713</td>\n",
       "      <td>friends</td>\n",
       "      <td>862</td>\n",
       "    </tr>\n",
       "    <tr>\n",
       "      <th>...</th>\n",
       "      <td>...</td>\n",
       "      <td>...</td>\n",
       "      <td>...</td>\n",
       "    </tr>\n",
       "    <tr>\n",
       "      <th>158675</th>\n",
       "      <td>11800</td>\n",
       "      <td>mockumentary</td>\n",
       "      <td>289923</td>\n",
       "    </tr>\n",
       "    <tr>\n",
       "      <th>158676</th>\n",
       "      <td>10703</td>\n",
       "      <td>tragic love</td>\n",
       "      <td>439050</td>\n",
       "    </tr>\n",
       "    <tr>\n",
       "      <th>158677</th>\n",
       "      <td>2679</td>\n",
       "      <td>artist</td>\n",
       "      <td>111109</td>\n",
       "    </tr>\n",
       "    <tr>\n",
       "      <th>158678</th>\n",
       "      <td>14531</td>\n",
       "      <td>play</td>\n",
       "      <td>111109</td>\n",
       "    </tr>\n",
       "    <tr>\n",
       "      <th>158679</th>\n",
       "      <td>215397</td>\n",
       "      <td>pinoy</td>\n",
       "      <td>111109</td>\n",
       "    </tr>\n",
       "  </tbody>\n",
       "</table>\n",
       "<p>158680 rows × 3 columns</p>\n",
       "</div>"
      ],
      "text/plain": [
       "            id          name  mov_id\n",
       "0          931      jealousy     862\n",
       "1         4290           toy     862\n",
       "2         5202           boy     862\n",
       "3         6054    friendship     862\n",
       "4         9713       friends     862\n",
       "...        ...           ...     ...\n",
       "158675   11800  mockumentary  289923\n",
       "158676   10703   tragic love  439050\n",
       "158677    2679        artist  111109\n",
       "158678   14531          play  111109\n",
       "158679  215397         pinoy  111109\n",
       "\n",
       "[158680 rows x 3 columns]"
      ]
     },
     "execution_count": 38,
     "metadata": {},
     "output_type": "execute_result"
    }
   ],
   "source": [
    "keywords"
   ]
  },
  {
   "cell_type": "markdown",
   "id": "4af30aaf",
   "metadata": {},
   "source": [
    "Data cleaning of keywords"
   ]
  },
  {
   "cell_type": "code",
   "execution_count": 41,
   "id": "e83eed21",
   "metadata": {},
   "outputs": [
    {
     "data": {
      "text/plain": [
       "id        0\n",
       "name      0\n",
       "mov_id    0\n",
       "dtype: int64"
      ]
     },
     "execution_count": 41,
     "metadata": {},
     "output_type": "execute_result"
    }
   ],
   "source": [
    "keywords.isnull().sum()"
   ]
  },
  {
   "cell_type": "code",
   "execution_count": 42,
   "id": "c58271c8",
   "metadata": {},
   "outputs": [
    {
     "data": {
      "text/plain": [
       "(158680, 3)"
      ]
     },
     "execution_count": 42,
     "metadata": {},
     "output_type": "execute_result"
    }
   ],
   "source": [
    "keywords.shape"
   ]
  },
  {
   "cell_type": "code",
   "execution_count": 43,
   "id": "1445e90c",
   "metadata": {},
   "outputs": [
    {
     "data": {
      "text/html": [
       "<div>\n",
       "<style scoped>\n",
       "    .dataframe tbody tr th:only-of-type {\n",
       "        vertical-align: middle;\n",
       "    }\n",
       "\n",
       "    .dataframe tbody tr th {\n",
       "        vertical-align: top;\n",
       "    }\n",
       "\n",
       "    .dataframe thead th {\n",
       "        text-align: right;\n",
       "    }\n",
       "</style>\n",
       "<table border=\"1\" class=\"dataframe\">\n",
       "  <thead>\n",
       "    <tr style=\"text-align: right;\">\n",
       "      <th></th>\n",
       "      <th>id</th>\n",
       "      <th>name</th>\n",
       "      <th>mov_id</th>\n",
       "    </tr>\n",
       "  </thead>\n",
       "  <tbody>\n",
       "    <tr>\n",
       "      <th>10074</th>\n",
       "      <td>7059</td>\n",
       "      <td>anti-communism</td>\n",
       "      <td>105045</td>\n",
       "    </tr>\n",
       "    <tr>\n",
       "      <th>10075</th>\n",
       "      <td>33501</td>\n",
       "      <td>political</td>\n",
       "      <td>105045</td>\n",
       "    </tr>\n",
       "    <tr>\n",
       "      <th>10076</th>\n",
       "      <td>187056</td>\n",
       "      <td>woman director</td>\n",
       "      <td>105045</td>\n",
       "    </tr>\n",
       "    <tr>\n",
       "      <th>52948</th>\n",
       "      <td>90</td>\n",
       "      <td>paris</td>\n",
       "      <td>5511</td>\n",
       "    </tr>\n",
       "    <tr>\n",
       "      <th>52949</th>\n",
       "      <td>1010</td>\n",
       "      <td>bar</td>\n",
       "      <td>5511</td>\n",
       "    </tr>\n",
       "    <tr>\n",
       "      <th>...</th>\n",
       "      <td>...</td>\n",
       "      <td>...</td>\n",
       "      <td>...</td>\n",
       "    </tr>\n",
       "    <tr>\n",
       "      <th>158372</th>\n",
       "      <td>228304</td>\n",
       "      <td>psychodrama</td>\n",
       "      <td>265189</td>\n",
       "    </tr>\n",
       "    <tr>\n",
       "      <th>158373</th>\n",
       "      <td>235729</td>\n",
       "      <td>husband wife relationship</td>\n",
       "      <td>265189</td>\n",
       "    </tr>\n",
       "    <tr>\n",
       "      <th>158374</th>\n",
       "      <td>235730</td>\n",
       "      <td>vacation gone wrong</td>\n",
       "      <td>265189</td>\n",
       "    </tr>\n",
       "    <tr>\n",
       "      <th>158375</th>\n",
       "      <td>235731</td>\n",
       "      <td>ski holiday</td>\n",
       "      <td>265189</td>\n",
       "    </tr>\n",
       "    <tr>\n",
       "      <th>158376</th>\n",
       "      <td>235732</td>\n",
       "      <td>swedish family</td>\n",
       "      <td>265189</td>\n",
       "    </tr>\n",
       "  </tbody>\n",
       "</table>\n",
       "<p>2078 rows × 3 columns</p>\n",
       "</div>"
      ],
      "text/plain": [
       "            id                       name  mov_id\n",
       "10074     7059             anti-communism  105045\n",
       "10075    33501                  political  105045\n",
       "10076   187056             woman director  105045\n",
       "52948       90                      paris    5511\n",
       "52949     1010                        bar    5511\n",
       "...        ...                        ...     ...\n",
       "158372  228304                psychodrama  265189\n",
       "158373  235729  husband wife relationship  265189\n",
       "158374  235730        vacation gone wrong  265189\n",
       "158375  235731                ski holiday  265189\n",
       "158376  235732             swedish family  265189\n",
       "\n",
       "[2078 rows x 3 columns]"
      ]
     },
     "execution_count": 43,
     "metadata": {},
     "output_type": "execute_result"
    }
   ],
   "source": [
    "keywords[keywords.duplicated()]"
   ]
  },
  {
   "cell_type": "code",
   "execution_count": 44,
   "id": "2350bfc6",
   "metadata": {},
   "outputs": [
    {
     "data": {
      "text/html": [
       "<div>\n",
       "<style scoped>\n",
       "    .dataframe tbody tr th:only-of-type {\n",
       "        vertical-align: middle;\n",
       "    }\n",
       "\n",
       "    .dataframe tbody tr th {\n",
       "        vertical-align: top;\n",
       "    }\n",
       "\n",
       "    .dataframe thead th {\n",
       "        text-align: right;\n",
       "    }\n",
       "</style>\n",
       "<table border=\"1\" class=\"dataframe\">\n",
       "  <thead>\n",
       "    <tr style=\"text-align: right;\">\n",
       "      <th></th>\n",
       "      <th>id</th>\n",
       "      <th>name</th>\n",
       "      <th>mov_id</th>\n",
       "    </tr>\n",
       "  </thead>\n",
       "  <tbody>\n",
       "    <tr>\n",
       "      <th>0</th>\n",
       "      <td>931</td>\n",
       "      <td>jealousy</td>\n",
       "      <td>862</td>\n",
       "    </tr>\n",
       "    <tr>\n",
       "      <th>1</th>\n",
       "      <td>4290</td>\n",
       "      <td>toy</td>\n",
       "      <td>862</td>\n",
       "    </tr>\n",
       "    <tr>\n",
       "      <th>2</th>\n",
       "      <td>5202</td>\n",
       "      <td>boy</td>\n",
       "      <td>862</td>\n",
       "    </tr>\n",
       "    <tr>\n",
       "      <th>3</th>\n",
       "      <td>6054</td>\n",
       "      <td>friendship</td>\n",
       "      <td>862</td>\n",
       "    </tr>\n",
       "    <tr>\n",
       "      <th>4</th>\n",
       "      <td>9713</td>\n",
       "      <td>friends</td>\n",
       "      <td>862</td>\n",
       "    </tr>\n",
       "    <tr>\n",
       "      <th>...</th>\n",
       "      <td>...</td>\n",
       "      <td>...</td>\n",
       "      <td>...</td>\n",
       "    </tr>\n",
       "    <tr>\n",
       "      <th>158675</th>\n",
       "      <td>11800</td>\n",
       "      <td>mockumentary</td>\n",
       "      <td>289923</td>\n",
       "    </tr>\n",
       "    <tr>\n",
       "      <th>158676</th>\n",
       "      <td>10703</td>\n",
       "      <td>tragic love</td>\n",
       "      <td>439050</td>\n",
       "    </tr>\n",
       "    <tr>\n",
       "      <th>158677</th>\n",
       "      <td>2679</td>\n",
       "      <td>artist</td>\n",
       "      <td>111109</td>\n",
       "    </tr>\n",
       "    <tr>\n",
       "      <th>158678</th>\n",
       "      <td>14531</td>\n",
       "      <td>play</td>\n",
       "      <td>111109</td>\n",
       "    </tr>\n",
       "    <tr>\n",
       "      <th>158679</th>\n",
       "      <td>215397</td>\n",
       "      <td>pinoy</td>\n",
       "      <td>111109</td>\n",
       "    </tr>\n",
       "  </tbody>\n",
       "</table>\n",
       "<p>156602 rows × 3 columns</p>\n",
       "</div>"
      ],
      "text/plain": [
       "            id          name  mov_id\n",
       "0          931      jealousy     862\n",
       "1         4290           toy     862\n",
       "2         5202           boy     862\n",
       "3         6054    friendship     862\n",
       "4         9713       friends     862\n",
       "...        ...           ...     ...\n",
       "158675   11800  mockumentary  289923\n",
       "158676   10703   tragic love  439050\n",
       "158677    2679        artist  111109\n",
       "158678   14531          play  111109\n",
       "158679  215397         pinoy  111109\n",
       "\n",
       "[156602 rows x 3 columns]"
      ]
     },
     "execution_count": 44,
     "metadata": {},
     "output_type": "execute_result"
    }
   ],
   "source": [
    "keywords.drop_duplicates()"
   ]
  },
  {
   "cell_type": "code",
   "execution_count": 45,
   "id": "f6a0f8e4",
   "metadata": {},
   "outputs": [
    {
     "data": {
      "text/plain": [
       "False    158676\n",
       "True          4\n",
       "Name: name, dtype: int64"
      ]
     },
     "execution_count": 45,
     "metadata": {},
     "output_type": "execute_result"
    }
   ],
   "source": [
    "keywords['name'].str.isspace().value_counts()"
   ]
  },
  {
   "cell_type": "code",
   "execution_count": 46,
   "id": "2e7597cd",
   "metadata": {},
   "outputs": [
    {
     "data": {
      "text/html": [
       "<div>\n",
       "<style scoped>\n",
       "    .dataframe tbody tr th:only-of-type {\n",
       "        vertical-align: middle;\n",
       "    }\n",
       "\n",
       "    .dataframe tbody tr th {\n",
       "        vertical-align: top;\n",
       "    }\n",
       "\n",
       "    .dataframe thead th {\n",
       "        text-align: right;\n",
       "    }\n",
       "</style>\n",
       "<table border=\"1\" class=\"dataframe\">\n",
       "  <thead>\n",
       "    <tr style=\"text-align: right;\">\n",
       "      <th></th>\n",
       "      <th>id</th>\n",
       "      <th>name</th>\n",
       "      <th>mov_id</th>\n",
       "    </tr>\n",
       "  </thead>\n",
       "  <tbody>\n",
       "    <tr>\n",
       "      <th>5045</th>\n",
       "      <td>13091</td>\n",
       "      <td></td>\n",
       "      <td>10546</td>\n",
       "    </tr>\n",
       "    <tr>\n",
       "      <th>27111</th>\n",
       "      <td>13091</td>\n",
       "      <td></td>\n",
       "      <td>10956</td>\n",
       "    </tr>\n",
       "    <tr>\n",
       "      <th>43354</th>\n",
       "      <td>13091</td>\n",
       "      <td></td>\n",
       "      <td>338</td>\n",
       "    </tr>\n",
       "    <tr>\n",
       "      <th>130492</th>\n",
       "      <td>13091</td>\n",
       "      <td></td>\n",
       "      <td>65953</td>\n",
       "    </tr>\n",
       "  </tbody>\n",
       "</table>\n",
       "</div>"
      ],
      "text/plain": [
       "           id name  mov_id\n",
       "5045    13091        10546\n",
       "27111   13091        10956\n",
       "43354   13091          338\n",
       "130492  13091        65953"
      ]
     },
     "execution_count": 46,
     "metadata": {},
     "output_type": "execute_result"
    }
   ],
   "source": [
    "keywords[keywords['name'].str.isspace()==True]"
   ]
  },
  {
   "cell_type": "code",
   "execution_count": 47,
   "id": "1a7b7f60",
   "metadata": {},
   "outputs": [],
   "source": [
    "keywords.iloc[[5045,27111,43354,130492],1]=keywords.iloc[[5045,27111,43354,130492],1].replace(u'\\xa0', u'Â')"
   ]
  },
  {
   "cell_type": "code",
   "execution_count": 48,
   "id": "3b50ae57",
   "metadata": {},
   "outputs": [
    {
     "data": {
      "text/plain": [
       "'Â'"
      ]
     },
     "execution_count": 48,
     "metadata": {},
     "output_type": "execute_result"
    }
   ],
   "source": [
    "keywords.iloc[5045,1]"
   ]
  },
  {
   "cell_type": "code",
   "execution_count": 49,
   "id": "c6d317cd",
   "metadata": {},
   "outputs": [
    {
     "data": {
      "text/html": [
       "<div>\n",
       "<style scoped>\n",
       "    .dataframe tbody tr th:only-of-type {\n",
       "        vertical-align: middle;\n",
       "    }\n",
       "\n",
       "    .dataframe tbody tr th {\n",
       "        vertical-align: top;\n",
       "    }\n",
       "\n",
       "    .dataframe thead th {\n",
       "        text-align: right;\n",
       "    }\n",
       "</style>\n",
       "<table border=\"1\" class=\"dataframe\">\n",
       "  <thead>\n",
       "    <tr style=\"text-align: right;\">\n",
       "      <th></th>\n",
       "      <th>id</th>\n",
       "      <th>name</th>\n",
       "      <th>mov_id</th>\n",
       "    </tr>\n",
       "  </thead>\n",
       "  <tbody>\n",
       "  </tbody>\n",
       "</table>\n",
       "</div>"
      ],
      "text/plain": [
       "Empty DataFrame\n",
       "Columns: [id, name, mov_id]\n",
       "Index: []"
      ]
     },
     "execution_count": 49,
     "metadata": {},
     "output_type": "execute_result"
    }
   ],
   "source": [
    "keywords[keywords['name'].str.isspace()==True]"
   ]
  },
  {
   "cell_type": "code",
   "execution_count": 50,
   "id": "16724be5",
   "metadata": {},
   "outputs": [
    {
     "data": {
      "text/plain": [
       "id         int64\n",
       "name      object\n",
       "mov_id     int64\n",
       "dtype: object"
      ]
     },
     "execution_count": 50,
     "metadata": {},
     "output_type": "execute_result"
    }
   ],
   "source": [
    "keywords.dtypes"
   ]
  },
  {
   "cell_type": "code",
   "execution_count": null,
   "id": "078784ff",
   "metadata": {},
   "outputs": [],
   "source": [
    "keywords.to_csv('keywords.csv',index=False)"
   ]
  },
  {
   "cell_type": "code",
   "execution_count": null,
   "id": "94b80d14",
   "metadata": {},
   "outputs": [],
   "source": []
  }
 ],
 "metadata": {
  "kernelspec": {
   "display_name": "Python 3 (ipykernel)",
   "language": "python",
   "name": "python3"
  },
  "language_info": {
   "codemirror_mode": {
    "name": "ipython",
    "version": 3
   },
   "file_extension": ".py",
   "mimetype": "text/x-python",
   "name": "python",
   "nbconvert_exporter": "python",
   "pygments_lexer": "ipython3",
   "version": "3.10.9"
  }
 },
 "nbformat": 4,
 "nbformat_minor": 5
}
